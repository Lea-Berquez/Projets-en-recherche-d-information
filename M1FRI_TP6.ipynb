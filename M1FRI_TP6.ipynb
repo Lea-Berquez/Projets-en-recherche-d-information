{
  "nbformat": 4,
  "nbformat_minor": 0,
  "metadata": {
    "colab": {
      "name": "M1FRI_TeD_TP6.ipynb",
      "provenance": [],
      "collapsed_sections": []
    },
    "kernelspec": {
      "display_name": "Python 3",
      "name": "python3"
    }
  },
  "cells": [
    {
      "cell_type": "markdown",
      "metadata": {
        "id": "jzpZPYGi5E0O"
      },
      "source": [
        "# Université Paul Sabatier\n",
        "\n",
        "EMIND1G1 - Fondements de la recherche d'information\n",
        "\n",
        "**TP 6**\n",
        "\n",
        "Enseignant : José G. Moreno\n",
        "\n",
        "2020"
      ]
    },
    {
      "cell_type": "markdown",
      "metadata": {
        "id": "KLb13NZO78Kn"
      },
      "source": [
        "**Etudiant : Léa BERQUEZ** "
      ]
    },
    {
      "cell_type": "markdown",
      "metadata": {
        "id": "QVVgNtmF5b31"
      },
      "source": [
        "## TP 6. Catégorisation de documents texte\n",
        "\n"
      ]
    },
    {
      "cell_type": "markdown",
      "metadata": {
        "id": "8Sz9Kxe89mSo"
      },
      "source": [
        "Nous allons utiliser l'ensemble de données \"Movie Genre Prediction\". L'ensemble de données comporte 21 lignes allant de la description du film au genre du film.\n",
        "La classification des films n'est pas incluse dans l'ensemble de données.\n",
        "\n",
        "Télécharge et décompretion du fichier pour le TP"
      ]
    },
    {
      "cell_type": "code",
      "metadata": {
        "id": "4Vp3Adjc9t0o",
        "colab": {
          "base_uri": "https://localhost:8080/"
        },
        "outputId": "52032e4a-d183-4882-aa17-51c501fcc512"
      },
      "source": [
        "!gdown --id 1z3xWjWvZeCqgO6VCqXXg_4oh7xOmL3ia\n",
        "!unzip rottentomatosdata.zip"
      ],
      "execution_count": 1,
      "outputs": [
        {
          "output_type": "stream",
          "text": [
            "Downloading...\n",
            "From: https://drive.google.com/uc?id=1z3xWjWvZeCqgO6VCqXXg_4oh7xOmL3ia\n",
            "To: /content/rottentomatosdata.zip\n",
            "\r0.00B [00:00, ?B/s]\r11.0MB [00:00, 109MB/s]\r12.7MB [00:00, 111MB/s]\n",
            "Archive:  rottentomatosdata.zip\n",
            "replace all_movie.csv? [y]es, [n]o, [A]ll, [N]one, [r]ename: y\n",
            "  inflating: all_movie.csv           \n"
          ],
          "name": "stdout"
        }
      ]
    },
    {
      "cell_type": "code",
      "metadata": {
        "id": "05ofYOlv9_Ia"
      },
      "source": [
        "import pandas as pd\n",
        "import numpy as np\n",
        "from sklearn.feature_extraction.text import TfidfVectorizer\n",
        "import graphviz \n",
        "import matplotlib.pyplot as plt\n",
        "from sklearn.manifold import TSNE\n",
        "from sklearn import tree\n",
        "from sklearn.tree import export_text\n",
        "from sklearn.metrics import classification_report"
      ],
      "execution_count": 2,
      "outputs": []
    },
    {
      "cell_type": "code",
      "metadata": {
        "id": "pMETDLaP-DQG",
        "colab": {
          "base_uri": "https://localhost:8080/",
          "height": 410
        },
        "outputId": "d2821b25-bed3-4e6b-8b77-fc5411558aef"
      },
      "source": [
        "df = pd.read_csv(\"all_movie.csv\")[['Title','Description','Genre']]\n",
        "df =  df.dropna()\n",
        "df = df.reset_index(drop=True)\n",
        "df"
      ],
      "execution_count": 3,
      "outputs": [
        {
          "output_type": "execute_result",
          "data": {
            "text/html": [
              "<div>\n",
              "<style scoped>\n",
              "    .dataframe tbody tr th:only-of-type {\n",
              "        vertical-align: middle;\n",
              "    }\n",
              "\n",
              "    .dataframe tbody tr th {\n",
              "        vertical-align: top;\n",
              "    }\n",
              "\n",
              "    .dataframe thead th {\n",
              "        text-align: right;\n",
              "    }\n",
              "</style>\n",
              "<table border=\"1\" class=\"dataframe\">\n",
              "  <thead>\n",
              "    <tr style=\"text-align: right;\">\n",
              "      <th></th>\n",
              "      <th>Title</th>\n",
              "      <th>Description</th>\n",
              "      <th>Genre</th>\n",
              "    </tr>\n",
              "  </thead>\n",
              "  <tbody>\n",
              "    <tr>\n",
              "      <th>0</th>\n",
              "      <td>The Mummy: Tomb of the Dragon Emperor</td>\n",
              "      <td>The Fast and the Furious director Rob Cohen co...</td>\n",
              "      <td>Action</td>\n",
              "    </tr>\n",
              "    <tr>\n",
              "      <th>1</th>\n",
              "      <td>The Masked Saint</td>\n",
              "      <td>The journey of a professional wrestler who bec...</td>\n",
              "      <td>Action</td>\n",
              "    </tr>\n",
              "    <tr>\n",
              "      <th>2</th>\n",
              "      <td>Spy Hard</td>\n",
              "      <td>Dead pan Leslie Nielsen stars as Dick Steele, ...</td>\n",
              "      <td>Action</td>\n",
              "    </tr>\n",
              "    <tr>\n",
              "      <th>3</th>\n",
              "      <td>Der Baader Meinhof Komplex (The Baader Meinhof...</td>\n",
              "      <td>Director Uli Edel teams with screenwriter Bern...</td>\n",
              "      <td>Action</td>\n",
              "    </tr>\n",
              "    <tr>\n",
              "      <th>4</th>\n",
              "      <td>Apocalypse Now</td>\n",
              "      <td>One of a cluster of late-1970s films about the...</td>\n",
              "      <td>Action</td>\n",
              "    </tr>\n",
              "    <tr>\n",
              "      <th>...</th>\n",
              "      <td>...</td>\n",
              "      <td>...</td>\n",
              "      <td>...</td>\n",
              "    </tr>\n",
              "    <tr>\n",
              "      <th>29279</th>\n",
              "      <td>Mysterious Island</td>\n",
              "      <td>Filmed at least nine times over the last nine ...</td>\n",
              "      <td>SciFi</td>\n",
              "    </tr>\n",
              "    <tr>\n",
              "      <th>29280</th>\n",
              "      <td>The Absent-Minded Professor</td>\n",
              "      <td>Fred MacMurray stars in this Walt Disney comed...</td>\n",
              "      <td>SciFi</td>\n",
              "    </tr>\n",
              "    <tr>\n",
              "      <th>29281</th>\n",
              "      <td>Zardoz</td>\n",
              "      <td>A resident of 23rd-century Earth becomes invol...</td>\n",
              "      <td>SciFi</td>\n",
              "    </tr>\n",
              "    <tr>\n",
              "      <th>29282</th>\n",
              "      <td>Supernova</td>\n",
              "      <td>Supernova chronicles the search and rescue pat...</td>\n",
              "      <td>SciFi</td>\n",
              "    </tr>\n",
              "    <tr>\n",
              "      <th>29283</th>\n",
              "      <td>Battle: Los Angeles</td>\n",
              "      <td>For years, there have been documented cases of...</td>\n",
              "      <td>SciFi</td>\n",
              "    </tr>\n",
              "  </tbody>\n",
              "</table>\n",
              "<p>29284 rows × 3 columns</p>\n",
              "</div>"
            ],
            "text/plain": [
              "                                                   Title  ...   Genre\n",
              "0                  The Mummy: Tomb of the Dragon Emperor  ...  Action\n",
              "1                                       The Masked Saint  ...  Action\n",
              "2                                               Spy Hard  ...  Action\n",
              "3      Der Baader Meinhof Komplex (The Baader Meinhof...  ...  Action\n",
              "4                                         Apocalypse Now  ...  Action\n",
              "...                                                  ...  ...     ...\n",
              "29279                                  Mysterious Island  ...   SciFi\n",
              "29280                        The Absent-Minded Professor  ...   SciFi\n",
              "29281                                             Zardoz  ...   SciFi\n",
              "29282                                          Supernova  ...   SciFi\n",
              "29283                                Battle: Los Angeles  ...   SciFi\n",
              "\n",
              "[29284 rows x 3 columns]"
            ]
          },
          "metadata": {
            "tags": []
          },
          "execution_count": 3
        }
      ]
    },
    {
      "cell_type": "markdown",
      "metadata": {
        "id": "zwC-tkkBNL87"
      },
      "source": [
        "Dans ce TP, nous allons utiliser les colonnes Title et Description pour predire le Genre."
      ]
    },
    {
      "cell_type": "markdown",
      "metadata": {
        "id": "UOWMp_u0NZzD"
      },
      "source": [
        "### 1. Représentation\n",
        "\n",
        "Construir les vecteurs pour chaque page en utilisant TF-IDF. Vous pouvez utiliser la méthode TfidfVectorizer de scikitlearn pour le faire. Voici le code"
      ]
    },
    {
      "cell_type": "code",
      "metadata": {
        "id": "Z-T2MJggL6P1",
        "colab": {
          "base_uri": "https://localhost:8080/"
        },
        "outputId": "6cd5ce92-b244-44ca-b47c-4c52f3b4820b"
      },
      "source": [
        "tfidf_vectorizer = TfidfVectorizer(max_df=0.95, min_df=3,stop_words='english')\n",
        "tfidf = tfidf_vectorizer.fit_transform([str(t)+\" \"+str(d) for t,d,_ in df.values])\n",
        "tfidf.shape"
      ],
      "execution_count": 4,
      "outputs": [
        {
          "output_type": "execute_result",
          "data": {
            "text/plain": [
              "(29284, 41709)"
            ]
          },
          "metadata": {
            "tags": []
          },
          "execution_count": 4
        }
      ]
    },
    {
      "cell_type": "code",
      "metadata": {
        "id": "wHuFbcFOltGV",
        "colab": {
          "base_uri": "https://localhost:8080/"
        },
        "outputId": "a7730c84-308f-4d32-bca7-1c37a0d07748"
      },
      "source": [
        "print(tfidf) "
      ],
      "execution_count": 5,
      "outputs": [
        {
          "output_type": "stream",
          "text": [
            "  (0, 32002)\t0.03118120445729874\n",
            "  (0, 5261)\t0.04867105295209675\n",
            "  (0, 19600)\t0.044454108782206306\n",
            "  (0, 8402)\t0.08111905983943633\n",
            "  (0, 30280)\t0.09763208894480488\n",
            "  (0, 31468)\t0.09519107117108411\n",
            "  (0, 19390)\t0.052427277266644215\n",
            "  (0, 13274)\t0.03415454034403577\n",
            "  (0, 8136)\t0.07395548297304955\n",
            "  (0, 24653)\t0.07554813860521978\n",
            "  (0, 3446)\t0.04774791778407758\n",
            "  (0, 7987)\t0.11434672669742366\n",
            "  (0, 28292)\t0.0535527491843945\n",
            "  (0, 22578)\t0.06547675746890441\n",
            "  (0, 34763)\t0.11434672669742366\n",
            "  (0, 8033)\t0.0754481216836801\n",
            "  (0, 13209)\t0.07083081812647407\n",
            "  (0, 13182)\t0.08718391654187543\n",
            "  (0, 8558)\t0.0521589287940532\n",
            "  (0, 13775)\t0.04914139809810477\n",
            "  (0, 10976)\t0.08638691901263082\n",
            "  (0, 41148)\t0.03216479359381073\n",
            "  (0, 10264)\t0.07595709749882684\n",
            "  (0, 28770)\t0.05063298025024232\n",
            "  (0, 5841)\t0.07247876691452668\n",
            "  :\t:\n",
            "  (29283, 34833)\t0.12657911928980548\n",
            "  (29283, 7022)\t0.14207731628754078\n",
            "  (29283, 30267)\t0.10746253791208239\n",
            "  (29283, 2583)\t0.13894407727136815\n",
            "  (29283, 21830)\t0.1058023721895703\n",
            "  (29283, 40425)\t0.12043229121785537\n",
            "  (29283, 35412)\t0.11516044099514333\n",
            "  (29283, 12247)\t0.1127928177048017\n",
            "  (29283, 27691)\t0.08087732839456555\n",
            "  (29283, 11620)\t0.09844146164047088\n",
            "  (29283, 39673)\t0.11143292529830578\n",
            "  (29283, 15962)\t0.09485625205679901\n",
            "  (29283, 37230)\t0.11639216904182768\n",
            "  (29283, 14279)\t0.09593682987505642\n",
            "  (29283, 33344)\t0.1397262920623325\n",
            "  (29283, 23089)\t0.13988613215373535\n",
            "  (29283, 20087)\t0.07285198645353963\n",
            "  (29283, 1740)\t0.21499851916855167\n",
            "  (29283, 22185)\t0.2111983701621742\n",
            "  (29283, 25623)\t0.05640619351196693\n",
            "  (29283, 13249)\t0.09903349516715929\n",
            "  (29283, 3446)\t0.18168462708678632\n",
            "  (29283, 41148)\t0.12238959939240937\n",
            "  (29283, 6764)\t0.12433367576266256\n",
            "  (29283, 41392)\t0.06884873744178394\n"
          ],
          "name": "stdout"
        }
      ]
    },
    {
      "cell_type": "markdown",
      "metadata": {
        "id": "CWFyBkzmO3BA"
      },
      "source": [
        "### 2. Visualisation\n",
        "Cette partie ne fait pas partie de la catégorisation, cependant, il est improtant de toujours connaître le problème qu'on essaie d'addreser. Pour cela, la visualisation du dataset peut nous venir en aide. Dans ce point un va visualiser la collaction à l'aide de t-SNE. "
      ]
    },
    {
      "cell_type": "code",
      "metadata": {
        "id": "uv4suiJCPWkB"
      },
      "source": [
        "X_embedded = TSNE(n_components=2).fit_transform(tfidf)"
      ],
      "execution_count": null,
      "outputs": []
    },
    {
      "cell_type": "code",
      "metadata": {
        "id": "gJF-yLVhXPzk",
        "colab": {
          "base_uri": "https://localhost:8080/"
        },
        "outputId": "71da0075-06f6-4904-98dc-ecec956ad9e9"
      },
      "source": [
        "df['Genre'].unique()"
      ],
      "execution_count": null,
      "outputs": [
        {
          "output_type": "execute_result",
          "data": {
            "text/plain": [
              "array(['Action', 'Art&Foreign', 'Classics', 'Comedy', 'Documentary',\n",
              "       'Drama', 'Horror', 'Kids&Family', 'Mystery', 'Romance', 'SciFi'],\n",
              "      dtype=object)"
            ]
          },
          "metadata": {
            "tags": []
          },
          "execution_count": 7
        }
      ]
    },
    {
      "cell_type": "code",
      "metadata": {
        "id": "k4da_l28QCQg"
      },
      "source": [
        "markermap = [x+y for x in ['b','g','r','c','m','y','k','w'] for y in ['o','x']]"
      ],
      "execution_count": null,
      "outputs": []
    },
    {
      "cell_type": "code",
      "metadata": {
        "id": "pEPq-YGWPsTo",
        "colab": {
          "base_uri": "https://localhost:8080/",
          "height": 265
        },
        "outputId": "c4a60797-34a0-497c-a6f3-78b1b82e66d3"
      },
      "source": [
        "for i, c in enumerate(list(df['Genre'].unique())):\n",
        "  ids = df.index[df['Genre'] == c].tolist()\n",
        "  plt.plot([x[0] for x in X_embedded[ids]],[x[1] for x in X_embedded[ids]], markermap[i])\n",
        "\n",
        "plt.savefig('foo.png')"
      ],
      "execution_count": null,
      "outputs": [
        {
          "output_type": "display_data",
          "data": {
            "image/png": "[encoded data removed]",
            "text/plain": [
              "<Figure size 432x288 with 1 Axes>"
            ]
          },
          "metadata": {
            "tags": []
          }
        }
      ]
    },
    {
      "cell_type": "markdown",
      "metadata": {
        "id": "D8m0gqAtZ-7w"
      },
      "source": [
        "Dans ce cas, notre problème senble être dificile car il n'existe pas une séparation simple de données dans un espace de 2 dimmension. Cependant, celle-ci ce n'est pas une évalaution rigurose du problème."
      ]
    },
    {
      "cell_type": "markdown",
      "metadata": {
        "id": "Gv2cu-xAZCuS"
      },
      "source": [
        "## 3. Entraîner un modèle\n",
        "\n",
        "Pour entraîner un modèle et en suite évaluer ce modèle, il faut utiliser un partie de notre collection pour l'apprentissage de paramètres et une autre partie pour l'évaluation. Il existent d'autres façon plus élaborées de faire, mais nous allons utiliser celle-ci. Donc d'abord nous allons "
      ]
    },
    {
      "cell_type": "code",
      "metadata": {
        "id": "A0CT4rKPZB2k"
      },
      "source": [
        "msk = np.random.rand(len(df)) < 0.8\n",
        "train = df[msk]\n",
        "test = df[~msk]"
      ],
      "execution_count": 5,
      "outputs": []
    },
    {
      "cell_type": "code",
      "metadata": {
        "id": "67pJFfq4yz-I"
      },
      "source": [
        "traintfidf = tfidf[[i for i in range(len(df)) if msk[i]]]"
      ],
      "execution_count": 6,
      "outputs": []
    },
    {
      "cell_type": "code",
      "metadata": {
        "id": "v3o6Vf3CZCGI",
        "colab": {
          "base_uri": "https://localhost:8080/"
        },
        "outputId": "049d4711-ef6d-4c7a-e3b0-cc17613711b5"
      },
      "source": [
        "clf = tree.DecisionTreeClassifier()\n",
        "clf.fit(traintfidf,train['Genre'])"
      ],
      "execution_count": 14,
      "outputs": [
        {
          "output_type": "execute_result",
          "data": {
            "text/plain": [
              "DecisionTreeClassifier(ccp_alpha=0.0, class_weight=None, criterion='gini',\n",
              "                       max_depth=None, max_features=None, max_leaf_nodes=None,\n",
              "                       min_impurity_decrease=0.0, min_impurity_split=None,\n",
              "                       min_samples_leaf=1, min_samples_split=2,\n",
              "                       min_weight_fraction_leaf=0.0, presort='deprecated',\n",
              "                       random_state=None, splitter='best')"
            ]
          },
          "metadata": {
            "tags": []
          },
          "execution_count": 14
        }
      ]
    },
    {
      "cell_type": "code",
      "metadata": {
        "id": "v4qHwJe-ZCJM",
        "colab": {
          "base_uri": "https://localhost:8080/"
        },
        "outputId": "4442abef-13a3-44b0-b6a0-94d19d74863e"
      },
      "source": [
        "print(export_text(clf))"
      ],
      "execution_count": 8,
      "outputs": [
        {
          "output_type": "stream",
          "text": [
            "|--- feature_10886 <= 0.01\n",
            "|   |--- feature_7580 <= 0.02\n",
            "|   |   |--- feature_17705 <= 0.04\n",
            "|   |   |   |--- feature_37483 <= 0.01\n",
            "|   |   |   |   |--- feature_11214 <= 0.01\n",
            "|   |   |   |   |   |--- feature_19152 <= 0.02\n",
            "|   |   |   |   |   |   |--- feature_1780 <= 0.04\n",
            "|   |   |   |   |   |   |   |--- feature_22234 <= 0.01\n",
            "|   |   |   |   |   |   |   |   |--- feature_956 <= 0.03\n",
            "|   |   |   |   |   |   |   |   |   |--- feature_28284 <= 0.05\n",
            "|   |   |   |   |   |   |   |   |   |   |--- feature_12762 <= 0.03\n",
            "|   |   |   |   |   |   |   |   |   |   |   |--- truncated branch of depth 282\n",
            "|   |   |   |   |   |   |   |   |   |   |--- feature_12762 >  0.03\n",
            "|   |   |   |   |   |   |   |   |   |   |   |--- truncated branch of depth 61\n",
            "|   |   |   |   |   |   |   |   |   |--- feature_28284 >  0.05\n",
            "|   |   |   |   |   |   |   |   |   |   |--- feature_6457 <= 0.06\n",
            "|   |   |   |   |   |   |   |   |   |   |   |--- truncated branch of depth 42\n",
            "|   |   |   |   |   |   |   |   |   |   |--- feature_6457 >  0.06\n",
            "|   |   |   |   |   |   |   |   |   |   |   |--- truncated branch of depth 2\n",
            "|   |   |   |   |   |   |   |   |--- feature_956 >  0.03\n",
            "|   |   |   |   |   |   |   |   |   |--- feature_11620 <= 0.05\n",
            "|   |   |   |   |   |   |   |   |   |   |--- feature_956 <= 0.17\n",
            "|   |   |   |   |   |   |   |   |   |   |   |--- truncated branch of depth 55\n",
            "|   |   |   |   |   |   |   |   |   |   |--- feature_956 >  0.17\n",
            "|   |   |   |   |   |   |   |   |   |   |   |--- truncated branch of depth 2\n",
            "|   |   |   |   |   |   |   |   |   |--- feature_11620 >  0.05\n",
            "|   |   |   |   |   |   |   |   |   |   |--- feature_21733 <= 0.05\n",
            "|   |   |   |   |   |   |   |   |   |   |   |--- truncated branch of depth 18\n",
            "|   |   |   |   |   |   |   |   |   |   |--- feature_21733 >  0.05\n",
            "|   |   |   |   |   |   |   |   |   |   |   |--- truncated branch of depth 2\n",
            "|   |   |   |   |   |   |   |--- feature_22234 >  0.01\n",
            "|   |   |   |   |   |   |   |   |--- feature_22234 <= 0.04\n",
            "|   |   |   |   |   |   |   |   |   |--- feature_12516 <= 0.01\n",
            "|   |   |   |   |   |   |   |   |   |   |--- feature_17319 <= 0.03\n",
            "|   |   |   |   |   |   |   |   |   |   |   |--- truncated branch of depth 56\n",
            "|   |   |   |   |   |   |   |   |   |   |--- feature_17319 >  0.03\n",
            "|   |   |   |   |   |   |   |   |   |   |   |--- truncated branch of depth 3\n",
            "|   |   |   |   |   |   |   |   |   |--- feature_12516 >  0.01\n",
            "|   |   |   |   |   |   |   |   |   |   |--- feature_6527 <= 0.02\n",
            "|   |   |   |   |   |   |   |   |   |   |   |--- truncated branch of depth 14\n",
            "|   |   |   |   |   |   |   |   |   |   |--- feature_6527 >  0.02\n",
            "|   |   |   |   |   |   |   |   |   |   |   |--- truncated branch of depth 3\n",
            "|   |   |   |   |   |   |   |   |--- feature_22234 >  0.04\n",
            "|   |   |   |   |   |   |   |   |   |--- feature_18124 <= 0.05\n",
            "|   |   |   |   |   |   |   |   |   |   |--- feature_22234 <= 0.10\n",
            "|   |   |   |   |   |   |   |   |   |   |   |--- truncated branch of depth 92\n",
            "|   |   |   |   |   |   |   |   |   |   |--- feature_22234 >  0.10\n",
            "|   |   |   |   |   |   |   |   |   |   |   |--- truncated branch of depth 53\n",
            "|   |   |   |   |   |   |   |   |   |--- feature_18124 >  0.05\n",
            "|   |   |   |   |   |   |   |   |   |   |--- feature_31285 <= 0.03\n",
            "|   |   |   |   |   |   |   |   |   |   |   |--- truncated branch of depth 2\n",
            "|   |   |   |   |   |   |   |   |   |   |--- feature_31285 >  0.03\n",
            "|   |   |   |   |   |   |   |   |   |   |   |--- truncated branch of depth 2\n",
            "|   |   |   |   |   |   |--- feature_1780 >  0.04\n",
            "|   |   |   |   |   |   |   |--- feature_10453 <= 0.01\n",
            "|   |   |   |   |   |   |   |   |--- feature_40938 <= 0.05\n",
            "|   |   |   |   |   |   |   |   |   |--- feature_13638 <= 0.04\n",
            "|   |   |   |   |   |   |   |   |   |   |--- feature_35021 <= 0.05\n",
            "|   |   |   |   |   |   |   |   |   |   |   |--- truncated branch of depth 25\n",
            "|   |   |   |   |   |   |   |   |   |   |--- feature_35021 >  0.05\n",
            "|   |   |   |   |   |   |   |   |   |   |   |--- class: Kids&Family\n",
            "|   |   |   |   |   |   |   |   |   |--- feature_13638 >  0.04\n",
            "|   |   |   |   |   |   |   |   |   |   |--- feature_26466 <= 0.03\n",
            "|   |   |   |   |   |   |   |   |   |   |   |--- truncated branch of depth 2\n",
            "|   |   |   |   |   |   |   |   |   |   |--- feature_26466 >  0.03\n",
            "|   |   |   |   |   |   |   |   |   |   |   |--- class: Art&Foreign\n",
            "|   |   |   |   |   |   |   |   |--- feature_40938 >  0.05\n",
            "|   |   |   |   |   |   |   |   |   |--- feature_38866 <= 0.04\n",
            "|   |   |   |   |   |   |   |   |   |   |--- feature_25623 <= 0.02\n",
            "|   |   |   |   |   |   |   |   |   |   |   |--- class: Comedy\n",
            "|   |   |   |   |   |   |   |   |   |   |--- feature_25623 >  0.02\n",
            "|   |   |   |   |   |   |   |   |   |   |   |--- class: Drama\n",
            "|   |   |   |   |   |   |   |   |   |--- feature_38866 >  0.04\n",
            "|   |   |   |   |   |   |   |   |   |   |--- class: Kids&Family\n",
            "|   |   |   |   |   |   |   |--- feature_10453 >  0.01\n",
            "|   |   |   |   |   |   |   |   |--- feature_41385 <= 0.03\n",
            "|   |   |   |   |   |   |   |   |   |--- feature_1780 <= 0.08\n",
            "|   |   |   |   |   |   |   |   |   |   |--- feature_29171 <= 0.02\n",
            "|   |   |   |   |   |   |   |   |   |   |   |--- truncated branch of depth 3\n",
            "|   |   |   |   |   |   |   |   |   |   |--- feature_29171 >  0.02\n",
            "|   |   |   |   |   |   |   |   |   |   |   |--- truncated branch of depth 2\n",
            "|   |   |   |   |   |   |   |   |   |--- feature_1780 >  0.08\n",
            "|   |   |   |   |   |   |   |   |   |   |--- feature_7939 <= 0.06\n",
            "|   |   |   |   |   |   |   |   |   |   |   |--- class: Action\n",
            "|   |   |   |   |   |   |   |   |   |   |--- feature_7939 >  0.06\n",
            "|   |   |   |   |   |   |   |   |   |   |   |--- class: Action\n",
            "|   |   |   |   |   |   |   |   |--- feature_41385 >  0.03\n",
            "|   |   |   |   |   |   |   |   |   |--- feature_19460 <= 0.03\n",
            "|   |   |   |   |   |   |   |   |   |   |--- feature_28958 <= 0.12\n",
            "|   |   |   |   |   |   |   |   |   |   |   |--- truncated branch of depth 2\n",
            "|   |   |   |   |   |   |   |   |   |   |--- feature_28958 >  0.12\n",
            "|   |   |   |   |   |   |   |   |   |   |   |--- class: Kids&Family\n",
            "|   |   |   |   |   |   |   |   |   |--- feature_19460 >  0.03\n",
            "|   |   |   |   |   |   |   |   |   |   |--- class: Documentary\n",
            "|   |   |   |   |   |--- feature_19152 >  0.02\n",
            "|   |   |   |   |   |   |--- feature_3640 <= 0.02\n",
            "|   |   |   |   |   |   |   |--- feature_4583 <= 0.11\n",
            "|   |   |   |   |   |   |   |   |--- feature_40638 <= 0.05\n",
            "|   |   |   |   |   |   |   |   |   |--- feature_13723 <= 0.09\n",
            "|   |   |   |   |   |   |   |   |   |   |--- feature_780 <= 0.03\n",
            "|   |   |   |   |   |   |   |   |   |   |   |--- truncated branch of depth 9\n",
            "|   |   |   |   |   |   |   |   |   |   |--- feature_780 >  0.03\n",
            "|   |   |   |   |   |   |   |   |   |   |   |--- class: Drama\n",
            "|   |   |   |   |   |   |   |   |   |--- feature_13723 >  0.09\n",
            "|   |   |   |   |   |   |   |   |   |   |--- class: Drama\n",
            "|   |   |   |   |   |   |   |   |--- feature_40638 >  0.05\n",
            "|   |   |   |   |   |   |   |   |   |--- feature_4020 <= 0.04\n",
            "|   |   |   |   |   |   |   |   |   |   |--- class: Drama\n",
            "|   |   |   |   |   |   |   |   |   |--- feature_4020 >  0.04\n",
            "|   |   |   |   |   |   |   |   |   |   |--- class: Documentary\n",
            "|   |   |   |   |   |   |   |--- feature_4583 >  0.11\n",
            "|   |   |   |   |   |   |   |   |--- feature_21938 <= 0.06\n",
            "|   |   |   |   |   |   |   |   |   |--- class: Comedy\n",
            "|   |   |   |   |   |   |   |   |--- feature_21938 >  0.06\n",
            "|   |   |   |   |   |   |   |   |   |--- class: Comedy\n",
            "|   |   |   |   |   |   |--- feature_3640 >  0.02\n",
            "|   |   |   |   |   |   |   |--- feature_13178 <= 0.06\n",
            "|   |   |   |   |   |   |   |   |--- feature_30257 <= 0.02\n",
            "|   |   |   |   |   |   |   |   |   |--- class: Drama\n",
            "|   |   |   |   |   |   |   |   |--- feature_30257 >  0.02\n",
            "|   |   |   |   |   |   |   |   |   |--- class: Drama\n",
            "|   |   |   |   |   |   |   |--- feature_13178 >  0.06\n",
            "|   |   |   |   |   |   |   |   |--- class: Romance\n",
            "|   |   |   |   |--- feature_11214 >  0.01\n",
            "|   |   |   |   |   |--- feature_766 <= 0.03\n",
            "|   |   |   |   |   |   |--- feature_36459 <= 0.03\n",
            "|   |   |   |   |   |   |   |--- feature_14591 <= 0.02\n",
            "|   |   |   |   |   |   |   |   |--- feature_1225 <= 0.05\n",
            "|   |   |   |   |   |   |   |   |   |--- feature_31822 <= 0.03\n",
            "|   |   |   |   |   |   |   |   |   |   |--- feature_21733 <= 0.02\n",
            "|   |   |   |   |   |   |   |   |   |   |   |--- truncated branch of depth 75\n",
            "|   |   |   |   |   |   |   |   |   |   |--- feature_21733 >  0.02\n",
            "|   |   |   |   |   |   |   |   |   |   |   |--- truncated branch of depth 62\n",
            "|   |   |   |   |   |   |   |   |   |--- feature_31822 >  0.03\n",
            "|   |   |   |   |   |   |   |   |   |   |--- feature_22234 <= 0.07\n",
            "|   |   |   |   |   |   |   |   |   |   |   |--- truncated branch of depth 14\n",
            "|   |   |   |   |   |   |   |   |   |   |--- feature_22234 >  0.07\n",
            "|   |   |   |   |   |   |   |   |   |   |   |--- truncated branch of depth 4\n",
            "|   |   |   |   |   |   |   |   |--- feature_1225 >  0.05\n",
            "|   |   |   |   |   |   |   |   |   |--- feature_36452 <= 0.02\n",
            "|   |   |   |   |   |   |   |   |   |   |--- feature_34805 <= 0.05\n",
            "|   |   |   |   |   |   |   |   |   |   |   |--- truncated branch of depth 8\n",
            "|   |   |   |   |   |   |   |   |   |   |--- feature_34805 >  0.05\n",
            "|   |   |   |   |   |   |   |   |   |   |   |--- truncated branch of depth 2\n",
            "|   |   |   |   |   |   |   |   |   |--- feature_36452 >  0.02\n",
            "|   |   |   |   |   |   |   |   |   |   |--- feature_23379 <= 0.06\n",
            "|   |   |   |   |   |   |   |   |   |   |   |--- truncated branch of depth 2\n",
            "|   |   |   |   |   |   |   |   |   |   |--- feature_23379 >  0.06\n",
            "|   |   |   |   |   |   |   |   |   |   |   |--- class: Action\n",
            "|   |   |   |   |   |   |   |--- feature_14591 >  0.02\n",
            "|   |   |   |   |   |   |   |   |--- feature_38473 <= 0.02\n",
            "|   |   |   |   |   |   |   |   |   |--- feature_33564 <= 0.03\n",
            "|   |   |   |   |   |   |   |   |   |   |--- feature_26231 <= 0.05\n",
            "|   |   |   |   |   |   |   |   |   |   |   |--- truncated branch of depth 19\n",
            "|   |   |   |   |   |   |   |   |   |   |--- feature_26231 >  0.05\n",
            "|   |   |   |   |   |   |   |   |   |   |   |--- truncated branch of depth 2\n",
            "|   |   |   |   |   |   |   |   |   |--- feature_33564 >  0.03\n",
            "|   |   |   |   |   |   |   |   |   |   |--- class: Art&Foreign\n",
            "|   |   |   |   |   |   |   |   |--- feature_38473 >  0.02\n",
            "|   |   |   |   |   |   |   |   |   |--- feature_22739 <= 0.04\n",
            "|   |   |   |   |   |   |   |   |   |   |--- feature_16699 <= 0.04\n",
            "|   |   |   |   |   |   |   |   |   |   |   |--- class: Comedy\n",
            "|   |   |   |   |   |   |   |   |   |   |--- feature_16699 >  0.04\n",
            "|   |   |   |   |   |   |   |   |   |   |   |--- class: Drama\n",
            "|   |   |   |   |   |   |   |   |   |--- feature_22739 >  0.04\n",
            "|   |   |   |   |   |   |   |   |   |   |--- feature_28099 <= 0.04\n",
            "|   |   |   |   |   |   |   |   |   |   |   |--- class: Action\n",
            "|   |   |   |   |   |   |   |   |   |   |--- feature_28099 >  0.04\n",
            "|   |   |   |   |   |   |   |   |   |   |   |--- class: Action\n",
            "|   |   |   |   |   |   |--- feature_36459 >  0.03\n",
            "|   |   |   |   |   |   |   |--- feature_40864 <= 0.03\n",
            "|   |   |   |   |   |   |   |   |--- feature_19630 <= 0.04\n",
            "|   |   |   |   |   |   |   |   |   |--- feature_12114 <= 0.04\n",
            "|   |   |   |   |   |   |   |   |   |   |--- feature_27691 <= 0.02\n",
            "|   |   |   |   |   |   |   |   |   |   |   |--- truncated branch of depth 5\n",
            "|   |   |   |   |   |   |   |   |   |   |--- feature_27691 >  0.02\n",
            "|   |   |   |   |   |   |   |   |   |   |   |--- truncated branch of depth 2\n",
            "|   |   |   |   |   |   |   |   |   |--- feature_12114 >  0.04\n",
            "|   |   |   |   |   |   |   |   |   |   |--- class: SciFi\n",
            "|   |   |   |   |   |   |   |   |--- feature_19630 >  0.04\n",
            "|   |   |   |   |   |   |   |   |   |--- feature_2815 <= 0.04\n",
            "|   |   |   |   |   |   |   |   |   |   |--- class: Action\n",
            "|   |   |   |   |   |   |   |   |   |--- feature_2815 >  0.04\n",
            "|   |   |   |   |   |   |   |   |   |   |--- class: Art&Foreign\n",
            "|   |   |   |   |   |   |   |--- feature_40864 >  0.03\n",
            "|   |   |   |   |   |   |   |   |--- feature_646 <= 0.05\n",
            "|   |   |   |   |   |   |   |   |   |--- class: Horror\n",
            "|   |   |   |   |   |   |   |   |--- feature_646 >  0.05\n",
            "|   |   |   |   |   |   |   |   |   |--- class: Horror\n",
            "|   |   |   |   |   |--- feature_766 >  0.03\n",
            "|   |   |   |   |   |   |--- feature_21733 <= 0.03\n",
            "|   |   |   |   |   |   |   |--- feature_31859 <= 0.04\n",
            "|   |   |   |   |   |   |   |   |--- feature_19226 <= 0.06\n",
            "|   |   |   |   |   |   |   |   |   |--- feature_37239 <= 0.04\n",
            "|   |   |   |   |   |   |   |   |   |   |--- feature_29231 <= 0.04\n",
            "|   |   |   |   |   |   |   |   |   |   |   |--- truncated branch of depth 27\n",
            "|   |   |   |   |   |   |   |   |   |   |--- feature_29231 >  0.04\n",
            "|   |   |   |   |   |   |   |   |   |   |   |--- truncated branch of depth 3\n",
            "|   |   |   |   |   |   |   |   |   |--- feature_37239 >  0.04\n",
            "|   |   |   |   |   |   |   |   |   |   |--- class: Action\n",
            "|   |   |   |   |   |   |   |   |--- feature_19226 >  0.06\n",
            "|   |   |   |   |   |   |   |   |   |--- feature_35600 <= 0.06\n",
            "|   |   |   |   |   |   |   |   |   |   |--- class: Mystery\n",
            "|   |   |   |   |   |   |   |   |   |--- feature_35600 >  0.06\n",
            "|   |   |   |   |   |   |   |   |   |   |--- class: Mystery\n",
            "|   |   |   |   |   |   |   |--- feature_31859 >  0.04\n",
            "|   |   |   |   |   |   |   |   |--- feature_37803 <= 0.03\n",
            "|   |   |   |   |   |   |   |   |   |--- class: Mystery\n",
            "|   |   |   |   |   |   |   |   |--- feature_37803 >  0.03\n",
            "|   |   |   |   |   |   |   |   |   |--- class: Action\n",
            "|   |   |   |   |   |   |--- feature_21733 >  0.03\n",
            "|   |   |   |   |   |   |   |--- feature_11214 <= 0.06\n",
            "|   |   |   |   |   |   |   |   |--- feature_36413 <= 0.03\n",
            "|   |   |   |   |   |   |   |   |   |--- feature_787 <= 0.04\n",
            "|   |   |   |   |   |   |   |   |   |   |--- class: Kids&Family\n",
            "|   |   |   |   |   |   |   |   |   |--- feature_787 >  0.04\n",
            "|   |   |   |   |   |   |   |   |   |   |--- class: Action\n",
            "|   |   |   |   |   |   |   |   |--- feature_36413 >  0.03\n",
            "|   |   |   |   |   |   |   |   |   |--- feature_6504 <= 0.02\n",
            "|   |   |   |   |   |   |   |   |   |   |--- class: Action\n",
            "|   |   |   |   |   |   |   |   |   |--- feature_6504 >  0.02\n",
            "|   |   |   |   |   |   |   |   |   |   |--- class: Action\n",
            "|   |   |   |   |   |   |   |--- feature_11214 >  0.06\n",
            "|   |   |   |   |   |   |   |   |--- feature_11214 <= 0.07\n",
            "|   |   |   |   |   |   |   |   |   |--- feature_7461 <= 0.06\n",
            "|   |   |   |   |   |   |   |   |   |   |--- feature_26963 <= 0.06\n",
            "|   |   |   |   |   |   |   |   |   |   |   |--- class: Action\n",
            "|   |   |   |   |   |   |   |   |   |   |--- feature_26963 >  0.06\n",
            "|   |   |   |   |   |   |   |   |   |   |   |--- class: Action\n",
            "|   |   |   |   |   |   |   |   |   |--- feature_7461 >  0.06\n",
            "|   |   |   |   |   |   |   |   |   |   |--- class: Action\n",
            "|   |   |   |   |   |   |   |   |--- feature_11214 >  0.07\n",
            "|   |   |   |   |   |   |   |   |   |--- class: Art&Foreign\n",
            "|   |   |   |--- feature_37483 >  0.01\n",
            "|   |   |   |   |--- feature_766 <= 0.03\n",
            "|   |   |   |   |   |--- feature_13667 <= 0.02\n",
            "|   |   |   |   |   |   |--- feature_32849 <= 0.06\n",
            "|   |   |   |   |   |   |   |--- feature_37230 <= 0.10\n",
            "|   |   |   |   |   |   |   |   |--- feature_16080 <= 0.03\n",
            "|   |   |   |   |   |   |   |   |   |--- feature_37018 <= 0.09\n",
            "|   |   |   |   |   |   |   |   |   |   |--- feature_29172 <= 0.06\n",
            "|   |   |   |   |   |   |   |   |   |   |   |--- truncated branch of depth 126\n",
            "|   |   |   |   |   |   |   |   |   |   |--- feature_29172 >  0.06\n",
            "|   |   |   |   |   |   |   |   |   |   |   |--- class: Drama\n",
            "|   |   |   |   |   |   |   |   |   |--- feature_37018 >  0.09\n",
            "|   |   |   |   |   |   |   |   |   |   |--- feature_9289 <= 0.11\n",
            "|   |   |   |   |   |   |   |   |   |   |   |--- class: Action\n",
            "|   |   |   |   |   |   |   |   |   |   |--- feature_9289 >  0.11\n",
            "|   |   |   |   |   |   |   |   |   |   |   |--- class: Action\n",
            "|   |   |   |   |   |   |   |   |--- feature_16080 >  0.03\n",
            "|   |   |   |   |   |   |   |   |   |--- feature_19600 <= 0.03\n",
            "|   |   |   |   |   |   |   |   |   |   |--- feature_4158 <= 0.06\n",
            "|   |   |   |   |   |   |   |   |   |   |   |--- truncated branch of depth 9\n",
            "|   |   |   |   |   |   |   |   |   |   |--- feature_4158 >  0.06\n",
            "|   |   |   |   |   |   |   |   |   |   |   |--- class: Mystery\n",
            "|   |   |   |   |   |   |   |   |   |--- feature_19600 >  0.03\n",
            "|   |   |   |   |   |   |   |   |   |   |--- class: Documentary\n",
            "|   |   |   |   |   |   |   |--- feature_37230 >  0.10\n",
            "|   |   |   |   |   |   |   |   |--- feature_3473 <= 0.06\n",
            "|   |   |   |   |   |   |   |   |   |--- feature_37514 <= 0.06\n",
            "|   |   |   |   |   |   |   |   |   |   |--- feature_20527 <= 0.05\n",
            "|   |   |   |   |   |   |   |   |   |   |   |--- truncated branch of depth 5\n",
            "|   |   |   |   |   |   |   |   |   |   |--- feature_20527 >  0.05\n",
            "|   |   |   |   |   |   |   |   |   |   |   |--- truncated branch of depth 2\n",
            "|   |   |   |   |   |   |   |   |   |--- feature_37514 >  0.06\n",
            "|   |   |   |   |   |   |   |   |   |   |--- feature_19394 <= 0.07\n",
            "|   |   |   |   |   |   |   |   |   |   |   |--- class: Horror\n",
            "|   |   |   |   |   |   |   |   |   |   |--- feature_19394 >  0.07\n",
            "|   |   |   |   |   |   |   |   |   |   |   |--- class: Horror\n",
            "|   |   |   |   |   |   |   |   |--- feature_3473 >  0.06\n",
            "|   |   |   |   |   |   |   |   |   |--- class: Action\n",
            "|   |   |   |   |   |   |--- feature_32849 >  0.06\n",
            "|   |   |   |   |   |   |   |--- feature_34839 <= 0.04\n",
            "|   |   |   |   |   |   |   |   |--- feature_16356 <= 0.03\n",
            "|   |   |   |   |   |   |   |   |   |--- feature_8680 <= 0.08\n",
            "|   |   |   |   |   |   |   |   |   |   |--- feature_4453 <= 0.13\n",
            "|   |   |   |   |   |   |   |   |   |   |   |--- truncated branch of depth 6\n",
            "|   |   |   |   |   |   |   |   |   |   |--- feature_4453 >  0.13\n",
            "|   |   |   |   |   |   |   |   |   |   |   |--- truncated branch of depth 2\n",
            "|   |   |   |   |   |   |   |   |   |--- feature_8680 >  0.08\n",
            "|   |   |   |   |   |   |   |   |   |   |--- feature_5281 <= 0.05\n",
            "|   |   |   |   |   |   |   |   |   |   |   |--- class: Classics\n",
            "|   |   |   |   |   |   |   |   |   |   |--- feature_5281 >  0.05\n",
            "|   |   |   |   |   |   |   |   |   |   |   |--- class: Mystery\n",
            "|   |   |   |   |   |   |   |   |--- feature_16356 >  0.03\n",
            "|   |   |   |   |   |   |   |   |   |--- class: Art&Foreign\n",
            "|   |   |   |   |   |   |   |--- feature_34839 >  0.04\n",
            "|   |   |   |   |   |   |   |   |--- feature_15636 <= 0.06\n",
            "|   |   |   |   |   |   |   |   |   |--- class: Drama\n",
            "|   |   |   |   |   |   |   |   |--- feature_15636 >  0.06\n",
            "|   |   |   |   |   |   |   |   |   |--- class: Drama\n",
            "|   |   |   |   |   |--- feature_13667 >  0.02\n",
            "|   |   |   |   |   |   |--- feature_2458 <= 0.05\n",
            "|   |   |   |   |   |   |   |--- feature_37018 <= 0.02\n",
            "|   |   |   |   |   |   |   |   |--- feature_41148 <= 0.05\n",
            "|   |   |   |   |   |   |   |   |   |--- feature_12143 <= 0.05\n",
            "|   |   |   |   |   |   |   |   |   |   |--- feature_37483 <= 0.08\n",
            "|   |   |   |   |   |   |   |   |   |   |   |--- truncated branch of depth 8\n",
            "|   |   |   |   |   |   |   |   |   |   |--- feature_37483 >  0.08\n",
            "|   |   |   |   |   |   |   |   |   |   |   |--- truncated branch of depth 2\n",
            "|   |   |   |   |   |   |   |   |   |--- feature_12143 >  0.05\n",
            "|   |   |   |   |   |   |   |   |   |   |--- feature_40014 <= 0.03\n",
            "|   |   |   |   |   |   |   |   |   |   |   |--- class: Horror\n",
            "|   |   |   |   |   |   |   |   |   |   |--- feature_40014 >  0.03\n",
            "|   |   |   |   |   |   |   |   |   |   |   |--- class: Horror\n",
            "|   |   |   |   |   |   |   |   |--- feature_41148 >  0.05\n",
            "|   |   |   |   |   |   |   |   |   |--- feature_29847 <= 0.04\n",
            "|   |   |   |   |   |   |   |   |   |   |--- class: Action\n",
            "|   |   |   |   |   |   |   |   |   |--- feature_29847 >  0.04\n",
            "|   |   |   |   |   |   |   |   |   |   |--- class: Action\n",
            "|   |   |   |   |   |   |   |--- feature_37018 >  0.02\n",
            "|   |   |   |   |   |   |   |   |--- feature_13744 <= 0.02\n",
            "|   |   |   |   |   |   |   |   |   |--- feature_39291 <= 0.04\n",
            "|   |   |   |   |   |   |   |   |   |   |--- feature_15693 <= 0.09\n",
            "|   |   |   |   |   |   |   |   |   |   |   |--- truncated branch of depth 2\n",
            "|   |   |   |   |   |   |   |   |   |   |--- feature_15693 >  0.09\n",
            "|   |   |   |   |   |   |   |   |   |   |   |--- class: Action\n",
            "|   |   |   |   |   |   |   |   |   |--- feature_39291 >  0.04\n",
            "|   |   |   |   |   |   |   |   |   |   |--- class: Action\n",
            "|   |   |   |   |   |   |   |   |--- feature_13744 >  0.02\n",
            "|   |   |   |   |   |   |   |   |   |--- class: Mystery\n",
            "|   |   |   |   |   |   |--- feature_2458 >  0.05\n",
            "|   |   |   |   |   |   |   |--- feature_13122 <= 0.04\n",
            "|   |   |   |   |   |   |   |   |--- class: Action\n",
            "|   |   |   |   |   |   |   |--- feature_13122 >  0.04\n",
            "|   |   |   |   |   |   |   |   |--- class: Action\n",
            "|   |   |   |   |--- feature_766 >  0.03\n",
            "|   |   |   |   |   |--- feature_14840 <= 0.02\n",
            "|   |   |   |   |   |   |--- feature_2840 <= 0.09\n",
            "|   |   |   |   |   |   |   |--- feature_35444 <= 0.09\n",
            "|   |   |   |   |   |   |   |   |--- feature_20441 <= 0.03\n",
            "|   |   |   |   |   |   |   |   |   |--- feature_33680 <= 0.04\n",
            "|   |   |   |   |   |   |   |   |   |   |--- feature_31056 <= 0.03\n",
            "|   |   |   |   |   |   |   |   |   |   |   |--- truncated branch of depth 37\n",
            "|   |   |   |   |   |   |   |   |   |   |--- feature_31056 >  0.03\n",
            "|   |   |   |   |   |   |   |   |   |   |   |--- truncated branch of depth 2\n",
            "|   |   |   |   |   |   |   |   |   |--- feature_33680 >  0.04\n",
            "|   |   |   |   |   |   |   |   |   |   |--- feature_33395 <= 0.06\n",
            "|   |   |   |   |   |   |   |   |   |   |   |--- class: Horror\n",
            "|   |   |   |   |   |   |   |   |   |   |--- feature_33395 >  0.06\n",
            "|   |   |   |   |   |   |   |   |   |   |   |--- class: Horror\n",
            "|   |   |   |   |   |   |   |   |--- feature_20441 >  0.03\n",
            "|   |   |   |   |   |   |   |   |   |--- feature_10446 <= 0.02\n",
            "|   |   |   |   |   |   |   |   |   |   |--- feature_32127 <= 0.06\n",
            "|   |   |   |   |   |   |   |   |   |   |   |--- truncated branch of depth 3\n",
            "|   |   |   |   |   |   |   |   |   |   |--- feature_32127 >  0.06\n",
            "|   |   |   |   |   |   |   |   |   |   |   |--- class: Drama\n",
            "|   |   |   |   |   |   |   |   |   |--- feature_10446 >  0.02\n",
            "|   |   |   |   |   |   |   |   |   |   |--- feature_39462 <= 0.04\n",
            "|   |   |   |   |   |   |   |   |   |   |   |--- class: Horror\n",
            "|   |   |   |   |   |   |   |   |   |   |--- feature_39462 >  0.04\n",
            "|   |   |   |   |   |   |   |   |   |   |   |--- class: Action\n",
            "|   |   |   |   |   |   |   |--- feature_35444 >  0.09\n",
            "|   |   |   |   |   |   |   |   |--- feature_38100 <= 0.09\n",
            "|   |   |   |   |   |   |   |   |   |--- feature_19688 <= 0.09\n",
            "|   |   |   |   |   |   |   |   |   |   |--- class: SciFi\n",
            "|   |   |   |   |   |   |   |   |   |--- feature_19688 >  0.09\n",
            "|   |   |   |   |   |   |   |   |   |   |--- class: Drama\n",
            "|   |   |   |   |   |   |   |   |--- feature_38100 >  0.09\n",
            "|   |   |   |   |   |   |   |   |   |--- class: Drama\n",
            "|   |   |   |   |   |   |--- feature_2840 >  0.09\n",
            "|   |   |   |   |   |   |   |--- class: Mystery\n",
            "|   |   |   |   |   |--- feature_14840 >  0.02\n",
            "|   |   |   |   |   |   |--- feature_10453 <= 0.03\n",
            "|   |   |   |   |   |   |   |--- feature_25745 <= 0.04\n",
            "|   |   |   |   |   |   |   |   |--- feature_305 <= 0.06\n",
            "|   |   |   |   |   |   |   |   |   |--- feature_26072 <= 0.03\n",
            "|   |   |   |   |   |   |   |   |   |   |--- feature_11605 <= 0.03\n",
            "|   |   |   |   |   |   |   |   |   |   |   |--- truncated branch of depth 5\n",
            "|   |   |   |   |   |   |   |   |   |   |--- feature_11605 >  0.03\n",
            "|   |   |   |   |   |   |   |   |   |   |   |--- class: Mystery\n",
            "|   |   |   |   |   |   |   |   |   |--- feature_26072 >  0.03\n",
            "|   |   |   |   |   |   |   |   |   |   |--- feature_17498 <= 0.03\n",
            "|   |   |   |   |   |   |   |   |   |   |   |--- class: Mystery\n",
            "|   |   |   |   |   |   |   |   |   |   |--- feature_17498 >  0.03\n",
            "|   |   |   |   |   |   |   |   |   |   |   |--- class: Mystery\n",
            "|   |   |   |   |   |   |   |   |--- feature_305 >  0.06\n",
            "|   |   |   |   |   |   |   |   |   |--- class: Drama\n",
            "|   |   |   |   |   |   |   |--- feature_25745 >  0.04\n",
            "|   |   |   |   |   |   |   |   |--- class: Drama\n",
            "|   |   |   |   |   |   |--- feature_10453 >  0.03\n",
            "|   |   |   |   |   |   |   |--- class: SciFi\n",
            "|   |   |--- feature_17705 >  0.04\n",
            "|   |   |   |--- feature_5292 <= 0.06\n",
            "|   |   |   |   |--- feature_17705 <= 0.13\n",
            "|   |   |   |   |   |--- feature_10259 <= 0.04\n",
            "|   |   |   |   |   |   |--- feature_11190 <= 0.43\n",
            "|   |   |   |   |   |   |   |--- feature_33040 <= 0.07\n",
            "|   |   |   |   |   |   |   |   |--- feature_29847 <= 0.02\n",
            "|   |   |   |   |   |   |   |   |   |--- feature_21413 <= 0.03\n",
            "|   |   |   |   |   |   |   |   |   |   |--- feature_25963 <= 0.05\n",
            "|   |   |   |   |   |   |   |   |   |   |   |--- truncated branch of depth 85\n",
            "|   |   |   |   |   |   |   |   |   |   |--- feature_25963 >  0.05\n",
            "|   |   |   |   |   |   |   |   |   |   |   |--- class: Documentary\n",
            "|   |   |   |   |   |   |   |   |   |--- feature_21413 >  0.03\n",
            "|   |   |   |   |   |   |   |   |   |   |--- feature_34839 <= 0.02\n",
            "|   |   |   |   |   |   |   |   |   |   |   |--- truncated branch of depth 3\n",
            "|   |   |   |   |   |   |   |   |   |   |--- feature_34839 >  0.02\n",
            "|   |   |   |   |   |   |   |   |   |   |   |--- truncated branch of depth 2\n",
            "|   |   |   |   |   |   |   |   |--- feature_29847 >  0.02\n",
            "|   |   |   |   |   |   |   |   |   |--- feature_37628 <= 0.02\n",
            "|   |   |   |   |   |   |   |   |   |   |--- feature_1116 <= 0.03\n",
            "|   |   |   |   |   |   |   |   |   |   |   |--- truncated branch of depth 3\n",
            "|   |   |   |   |   |   |   |   |   |   |--- feature_1116 >  0.03\n",
            "|   |   |   |   |   |   |   |   |   |   |   |--- class: Comedy\n",
            "|   |   |   |   |   |   |   |   |   |--- feature_37628 >  0.02\n",
            "|   |   |   |   |   |   |   |   |   |   |--- class: Classics\n",
            "|   |   |   |   |   |   |   |--- feature_33040 >  0.07\n",
            "|   |   |   |   |   |   |   |   |--- class: Horror\n",
            "|   |   |   |   |   |   |--- feature_11190 >  0.43\n",
            "|   |   |   |   |   |   |   |--- feature_39585 <= 0.04\n",
            "|   |   |   |   |   |   |   |   |--- class: Art&Foreign\n",
            "|   |   |   |   |   |   |   |--- feature_39585 >  0.04\n",
            "|   |   |   |   |   |   |   |   |--- class: Classics\n",
            "|   |   |   |   |   |--- feature_10259 >  0.04\n",
            "|   |   |   |   |   |   |--- feature_31827 <= 0.04\n",
            "|   |   |   |   |   |   |   |--- feature_1665 <= 0.06\n",
            "|   |   |   |   |   |   |   |   |--- class: Art&Foreign\n",
            "|   |   |   |   |   |   |   |--- feature_1665 >  0.06\n",
            "|   |   |   |   |   |   |   |   |--- class: Art&Foreign\n",
            "|   |   |   |   |   |   |--- feature_31827 >  0.04\n",
            "|   |   |   |   |   |   |   |--- feature_10259 <= 0.15\n",
            "|   |   |   |   |   |   |   |   |--- class: Art&Foreign\n",
            "|   |   |   |   |   |   |   |--- feature_10259 >  0.15\n",
            "|   |   |   |   |   |   |   |   |--- class: Art&Foreign\n",
            "|   |   |   |   |--- feature_17705 >  0.13\n",
            "|   |   |   |   |   |--- feature_22011 <= 0.15\n",
            "|   |   |   |   |   |   |--- feature_8724 <= 0.09\n",
            "|   |   |   |   |   |   |   |--- feature_24936 <= 0.18\n",
            "|   |   |   |   |   |   |   |   |--- feature_3898 <= 0.01\n",
            "|   |   |   |   |   |   |   |   |   |--- feature_35790 <= 0.09\n",
            "|   |   |   |   |   |   |   |   |   |   |--- feature_17671 <= 0.14\n",
            "|   |   |   |   |   |   |   |   |   |   |   |--- truncated branch of depth 11\n",
            "|   |   |   |   |   |   |   |   |   |   |--- feature_17671 >  0.14\n",
            "|   |   |   |   |   |   |   |   |   |   |   |--- class: Comedy\n",
            "|   |   |   |   |   |   |   |   |   |--- feature_35790 >  0.09\n",
            "|   |   |   |   |   |   |   |   |   |   |--- feature_16544 <= 0.09\n",
            "|   |   |   |   |   |   |   |   |   |   |   |--- truncated branch of depth 2\n",
            "|   |   |   |   |   |   |   |   |   |   |--- feature_16544 >  0.09\n",
            "|   |   |   |   |   |   |   |   |   |   |   |--- class: Drama\n",
            "|   |   |   |   |   |   |   |   |--- feature_3898 >  0.01\n",
            "|   |   |   |   |   |   |   |   |   |--- feature_14214 <= 0.04\n",
            "|   |   |   |   |   |   |   |   |   |   |--- feature_12929 <= 0.03\n",
            "|   |   |   |   |   |   |   |   |   |   |   |--- class: Drama\n",
            "|   |   |   |   |   |   |   |   |   |   |--- feature_12929 >  0.03\n",
            "|   |   |   |   |   |   |   |   |   |   |   |--- class: Classics\n",
            "|   |   |   |   |   |   |   |   |   |--- feature_14214 >  0.04\n",
            "|   |   |   |   |   |   |   |   |   |   |--- class: Drama\n",
            "|   |   |   |   |   |   |   |--- feature_24936 >  0.18\n",
            "|   |   |   |   |   |   |   |   |--- feature_23174 <= 0.12\n",
            "|   |   |   |   |   |   |   |   |   |--- class: SciFi\n",
            "|   |   |   |   |   |   |   |   |--- feature_23174 >  0.12\n",
            "|   |   |   |   |   |   |   |   |   |--- class: Drama\n",
            "|   |   |   |   |   |   |--- feature_8724 >  0.09\n",
            "|   |   |   |   |   |   |   |--- feature_34251 <= 0.07\n",
            "|   |   |   |   |   |   |   |   |--- class: SciFi\n",
            "|   |   |   |   |   |   |   |--- feature_34251 >  0.07\n",
            "|   |   |   |   |   |   |   |   |--- class: Classics\n",
            "|   |   |   |   |   |--- feature_22011 >  0.15\n",
            "|   |   |   |   |   |   |--- feature_39989 <= 0.10\n",
            "|   |   |   |   |   |   |   |--- class: Mystery\n",
            "|   |   |   |   |   |   |--- feature_39989 >  0.10\n",
            "|   |   |   |   |   |   |   |--- class: SciFi\n",
            "|   |   |   |--- feature_5292 >  0.06\n",
            "|   |   |   |   |--- feature_24648 <= 0.03\n",
            "|   |   |   |   |   |--- feature_30362 <= 0.03\n",
            "|   |   |   |   |   |   |--- feature_17705 <= 0.16\n",
            "|   |   |   |   |   |   |   |--- feature_14248 <= 0.07\n",
            "|   |   |   |   |   |   |   |   |--- feature_23093 <= 0.09\n",
            "|   |   |   |   |   |   |   |   |   |--- feature_35835 <= 0.05\n",
            "|   |   |   |   |   |   |   |   |   |   |--- feature_10299 <= 0.05\n",
            "|   |   |   |   |   |   |   |   |   |   |   |--- class: Horror\n",
            "|   |   |   |   |   |   |   |   |   |   |--- feature_10299 >  0.05\n",
            "|   |   |   |   |   |   |   |   |   |   |   |--- class: Horror\n",
            "|   |   |   |   |   |   |   |   |   |--- feature_35835 >  0.05\n",
            "|   |   |   |   |   |   |   |   |   |   |--- class: Horror\n",
            "|   |   |   |   |   |   |   |   |--- feature_23093 >  0.09\n",
            "|   |   |   |   |   |   |   |   |   |--- class: Horror\n",
            "|   |   |   |   |   |   |   |--- feature_14248 >  0.07\n",
            "|   |   |   |   |   |   |   |   |--- class: Horror\n",
            "|   |   |   |   |   |   |--- feature_17705 >  0.16\n",
            "|   |   |   |   |   |   |   |--- feature_28018 <= 0.04\n",
            "|   |   |   |   |   |   |   |   |--- class: Horror\n",
            "|   |   |   |   |   |   |   |--- feature_28018 >  0.04\n",
            "|   |   |   |   |   |   |   |   |--- class: Horror\n",
            "|   |   |   |   |   |--- feature_30362 >  0.03\n",
            "|   |   |   |   |   |   |--- class: Horror\n",
            "|   |   |   |   |--- feature_24648 >  0.03\n",
            "|   |   |   |   |   |--- class: Horror\n",
            "|   |--- feature_7580 >  0.02\n",
            "|   |   |--- feature_31822 <= 0.03\n",
            "|   |   |   |--- feature_17705 <= 0.05\n",
            "|   |   |   |   |--- feature_11214 <= 0.01\n",
            "|   |   |   |   |   |--- feature_766 <= 0.04\n",
            "|   |   |   |   |   |   |--- feature_10644 <= 0.02\n",
            "|   |   |   |   |   |   |   |--- feature_13667 <= 0.06\n",
            "|   |   |   |   |   |   |   |   |--- feature_956 <= 0.02\n",
            "|   |   |   |   |   |   |   |   |   |--- feature_12516 <= 0.02\n",
            "|   |   |   |   |   |   |   |   |   |   |--- feature_19999 <= 0.14\n",
            "|   |   |   |   |   |   |   |   |   |   |   |--- truncated branch of depth 79\n",
            "|   |   |   |   |   |   |   |   |   |   |--- feature_19999 >  0.14\n",
            "|   |   |   |   |   |   |   |   |   |   |   |--- truncated branch of depth 6\n",
            "|   |   |   |   |   |   |   |   |   |--- feature_12516 >  0.02\n",
            "|   |   |   |   |   |   |   |   |   |   |--- feature_23157 <= 0.02\n",
            "|   |   |   |   |   |   |   |   |   |   |   |--- truncated branch of depth 10\n",
            "|   |   |   |   |   |   |   |   |   |   |--- feature_23157 >  0.02\n",
            "|   |   |   |   |   |   |   |   |   |   |   |--- class: Classics\n",
            "|   |   |   |   |   |   |   |   |--- feature_956 >  0.02\n",
            "|   |   |   |   |   |   |   |   |   |--- feature_10453 <= 0.03\n",
            "|   |   |   |   |   |   |   |   |   |   |--- feature_21367 <= 0.02\n",
            "|   |   |   |   |   |   |   |   |   |   |   |--- truncated branch of depth 13\n",
            "|   |   |   |   |   |   |   |   |   |   |--- feature_21367 >  0.02\n",
            "|   |   |   |   |   |   |   |   |   |   |   |--- truncated branch of depth 2\n",
            "|   |   |   |   |   |   |   |   |   |--- feature_10453 >  0.03\n",
            "|   |   |   |   |   |   |   |   |   |   |--- feature_956 <= 0.08\n",
            "|   |   |   |   |   |   |   |   |   |   |   |--- truncated branch of depth 2\n",
            "|   |   |   |   |   |   |   |   |   |   |--- feature_956 >  0.08\n",
            "|   |   |   |   |   |   |   |   |   |   |   |--- truncated branch of depth 2\n",
            "|   |   |   |   |   |   |   |--- feature_13667 >  0.06\n",
            "|   |   |   |   |   |   |   |   |--- feature_18161 <= 0.08\n",
            "|   |   |   |   |   |   |   |   |   |--- feature_32852 <= 0.03\n",
            "|   |   |   |   |   |   |   |   |   |   |--- feature_17662 <= 0.14\n",
            "|   |   |   |   |   |   |   |   |   |   |   |--- truncated branch of depth 5\n",
            "|   |   |   |   |   |   |   |   |   |   |--- feature_17662 >  0.14\n",
            "|   |   |   |   |   |   |   |   |   |   |   |--- class: SciFi\n",
            "|   |   |   |   |   |   |   |   |   |--- feature_32852 >  0.03\n",
            "|   |   |   |   |   |   |   |   |   |   |--- class: SciFi\n",
            "|   |   |   |   |   |   |   |   |--- feature_18161 >  0.08\n",
            "|   |   |   |   |   |   |   |   |   |--- class: Romance\n",
            "|   |   |   |   |   |   |--- feature_10644 >  0.02\n",
            "|   |   |   |   |   |   |   |--- feature_7580 <= 0.04\n",
            "|   |   |   |   |   |   |   |   |--- feature_23648 <= 0.03\n",
            "|   |   |   |   |   |   |   |   |   |--- feature_11799 <= 0.04\n",
            "|   |   |   |   |   |   |   |   |   |   |--- feature_19460 <= 0.03\n",
            "|   |   |   |   |   |   |   |   |   |   |   |--- class: Action\n",
            "|   |   |   |   |   |   |   |   |   |   |--- feature_19460 >  0.03\n",
            "|   |   |   |   |   |   |   |   |   |   |   |--- class: Action\n",
            "|   |   |   |   |   |   |   |   |   |--- feature_11799 >  0.04\n",
            "|   |   |   |   |   |   |   |   |   |   |--- class: Kids&Family\n",
            "|   |   |   |   |   |   |   |   |--- feature_23648 >  0.03\n",
            "|   |   |   |   |   |   |   |   |   |--- feature_20043 <= 0.09\n",
            "|   |   |   |   |   |   |   |   |   |   |--- class: Action\n",
            "|   |   |   |   |   |   |   |   |   |--- feature_20043 >  0.09\n",
            "|   |   |   |   |   |   |   |   |   |   |--- class: Action\n",
            "|   |   |   |   |   |   |   |--- feature_7580 >  0.04\n",
            "|   |   |   |   |   |   |   |   |--- feature_4013 <= 0.04\n",
            "|   |   |   |   |   |   |   |   |   |--- feature_7031 <= 0.09\n",
            "|   |   |   |   |   |   |   |   |   |   |--- feature_10083 <= 0.06\n",
            "|   |   |   |   |   |   |   |   |   |   |   |--- truncated branch of depth 5\n",
            "|   |   |   |   |   |   |   |   |   |   |--- feature_10083 >  0.06\n",
            "|   |   |   |   |   |   |   |   |   |   |   |--- class: Comedy\n",
            "|   |   |   |   |   |   |   |   |   |--- feature_7031 >  0.09\n",
            "|   |   |   |   |   |   |   |   |   |   |--- class: Action\n",
            "|   |   |   |   |   |   |   |   |--- feature_4013 >  0.04\n",
            "|   |   |   |   |   |   |   |   |   |--- class: Kids&Family\n",
            "|   |   |   |   |   |--- feature_766 >  0.04\n",
            "|   |   |   |   |   |   |--- feature_5728 <= 0.04\n",
            "|   |   |   |   |   |   |   |--- feature_30210 <= 0.16\n",
            "|   |   |   |   |   |   |   |   |--- feature_15568 <= 0.04\n",
            "|   |   |   |   |   |   |   |   |   |--- feature_34252 <= 0.05\n",
            "|   |   |   |   |   |   |   |   |   |   |--- feature_10644 <= 0.05\n",
            "|   |   |   |   |   |   |   |   |   |   |   |--- truncated branch of depth 24\n",
            "|   |   |   |   |   |   |   |   |   |   |--- feature_10644 >  0.05\n",
            "|   |   |   |   |   |   |   |   |   |   |   |--- truncated branch of depth 3\n",
            "|   |   |   |   |   |   |   |   |   |--- feature_34252 >  0.05\n",
            "|   |   |   |   |   |   |   |   |   |   |--- feature_6764 <= 0.03\n",
            "|   |   |   |   |   |   |   |   |   |   |   |--- truncated branch of depth 4\n",
            "|   |   |   |   |   |   |   |   |   |   |--- feature_6764 >  0.03\n",
            "|   |   |   |   |   |   |   |   |   |   |   |--- truncated branch of depth 2\n",
            "|   |   |   |   |   |   |   |   |--- feature_15568 >  0.04\n",
            "|   |   |   |   |   |   |   |   |   |--- feature_38608 <= 0.02\n",
            "|   |   |   |   |   |   |   |   |   |   |--- class: Art&Foreign\n",
            "|   |   |   |   |   |   |   |   |   |--- feature_38608 >  0.02\n",
            "|   |   |   |   |   |   |   |   |   |   |--- class: SciFi\n",
            "|   |   |   |   |   |   |   |--- feature_30210 >  0.16\n",
            "|   |   |   |   |   |   |   |   |--- class: Kids&Family\n",
            "|   |   |   |   |   |   |--- feature_5728 >  0.04\n",
            "|   |   |   |   |   |   |   |--- class: Documentary\n",
            "|   |   |   |   |--- feature_11214 >  0.01\n",
            "|   |   |   |   |   |--- feature_31063 <= 0.07\n",
            "|   |   |   |   |   |   |--- feature_41251 <= 0.05\n",
            "|   |   |   |   |   |   |   |--- feature_1084 <= 0.03\n",
            "|   |   |   |   |   |   |   |   |--- feature_28949 <= 0.03\n",
            "|   |   |   |   |   |   |   |   |   |--- feature_41392 <= 0.05\n",
            "|   |   |   |   |   |   |   |   |   |   |--- feature_5187 <= 0.07\n",
            "|   |   |   |   |   |   |   |   |   |   |   |--- truncated branch of depth 43\n",
            "|   |   |   |   |   |   |   |   |   |   |--- feature_5187 >  0.07\n",
            "|   |   |   |   |   |   |   |   |   |   |   |--- class: Art&Foreign\n",
            "|   |   |   |   |   |   |   |   |   |--- feature_41392 >  0.05\n",
            "|   |   |   |   |   |   |   |   |   |   |--- feature_10567 <= 0.06\n",
            "|   |   |   |   |   |   |   |   |   |   |   |--- truncated branch of depth 4\n",
            "|   |   |   |   |   |   |   |   |   |   |--- feature_10567 >  0.06\n",
            "|   |   |   |   |   |   |   |   |   |   |   |--- class: Mystery\n",
            "|   |   |   |   |   |   |   |   |--- feature_28949 >  0.03\n",
            "|   |   |   |   |   |   |   |   |   |--- class: Drama\n",
            "|   |   |   |   |   |   |   |--- feature_1084 >  0.03\n",
            "|   |   |   |   |   |   |   |   |--- feature_12597 <= 0.03\n",
            "|   |   |   |   |   |   |   |   |   |--- class: Action\n",
            "|   |   |   |   |   |   |   |   |--- feature_12597 >  0.03\n",
            "|   |   |   |   |   |   |   |   |   |--- class: Action\n",
            "|   |   |   |   |   |   |--- feature_41251 >  0.05\n",
            "|   |   |   |   |   |   |   |--- feature_13415 <= 0.04\n",
            "|   |   |   |   |   |   |   |   |--- feature_40813 <= 0.05\n",
            "|   |   |   |   |   |   |   |   |   |--- feature_41251 <= 0.10\n",
            "|   |   |   |   |   |   |   |   |   |   |--- feature_41124 <= 0.05\n",
            "|   |   |   |   |   |   |   |   |   |   |   |--- truncated branch of depth 2\n",
            "|   |   |   |   |   |   |   |   |   |   |--- feature_41124 >  0.05\n",
            "|   |   |   |   |   |   |   |   |   |   |   |--- truncated branch of depth 2\n",
            "|   |   |   |   |   |   |   |   |   |--- feature_41251 >  0.10\n",
            "|   |   |   |   |   |   |   |   |   |   |--- feature_25109 <= 0.06\n",
            "|   |   |   |   |   |   |   |   |   |   |   |--- truncated branch of depth 2\n",
            "|   |   |   |   |   |   |   |   |   |   |--- feature_25109 >  0.06\n",
            "|   |   |   |   |   |   |   |   |   |   |   |--- class: Drama\n",
            "|   |   |   |   |   |   |   |   |--- feature_40813 >  0.05\n",
            "|   |   |   |   |   |   |   |   |   |--- feature_5895 <= 0.04\n",
            "|   |   |   |   |   |   |   |   |   |   |--- class: Comedy\n",
            "|   |   |   |   |   |   |   |   |   |--- feature_5895 >  0.04\n",
            "|   |   |   |   |   |   |   |   |   |   |--- class: Comedy\n",
            "|   |   |   |   |   |   |   |--- feature_13415 >  0.04\n",
            "|   |   |   |   |   |   |   |   |--- feature_18290 <= 0.04\n",
            "|   |   |   |   |   |   |   |   |   |--- feature_26471 <= 0.05\n",
            "|   |   |   |   |   |   |   |   |   |   |--- class: Action\n",
            "|   |   |   |   |   |   |   |   |   |--- feature_26471 >  0.05\n",
            "|   |   |   |   |   |   |   |   |   |   |--- class: Comedy\n",
            "|   |   |   |   |   |   |   |   |--- feature_18290 >  0.04\n",
            "|   |   |   |   |   |   |   |   |   |--- class: Comedy\n",
            "|   |   |   |   |   |--- feature_31063 >  0.07\n",
            "|   |   |   |   |   |   |--- class: Action\n",
            "|   |   |   |--- feature_17705 >  0.05\n",
            "|   |   |   |   |--- feature_4322 <= 0.16\n",
            "|   |   |   |   |   |--- feature_32745 <= 0.04\n",
            "|   |   |   |   |   |   |--- feature_41148 <= 0.02\n",
            "|   |   |   |   |   |   |   |--- feature_21237 <= 0.03\n",
            "|   |   |   |   |   |   |   |   |--- feature_49 <= 0.05\n",
            "|   |   |   |   |   |   |   |   |   |--- feature_26365 <= 0.06\n",
            "|   |   |   |   |   |   |   |   |   |   |--- feature_40414 <= 0.09\n",
            "|   |   |   |   |   |   |   |   |   |   |   |--- truncated branch of depth 18\n",
            "|   |   |   |   |   |   |   |   |   |   |--- feature_40414 >  0.09\n",
            "|   |   |   |   |   |   |   |   |   |   |   |--- class: Action\n",
            "|   |   |   |   |   |   |   |   |   |--- feature_26365 >  0.06\n",
            "|   |   |   |   |   |   |   |   |   |   |--- feature_17374 <= 0.08\n",
            "|   |   |   |   |   |   |   |   |   |   |   |--- truncated branch of depth 2\n",
            "|   |   |   |   |   |   |   |   |   |   |--- feature_17374 >  0.08\n",
            "|   |   |   |   |   |   |   |   |   |   |   |--- class: Action\n",
            "|   |   |   |   |   |   |   |   |--- feature_49 >  0.05\n",
            "|   |   |   |   |   |   |   |   |   |--- class: Action\n",
            "|   |   |   |   |   |   |   |--- feature_21237 >  0.03\n",
            "|   |   |   |   |   |   |   |   |--- feature_12302 <= 0.05\n",
            "|   |   |   |   |   |   |   |   |   |--- class: Art&Foreign\n",
            "|   |   |   |   |   |   |   |   |--- feature_12302 >  0.05\n",
            "|   |   |   |   |   |   |   |   |   |--- class: Art&Foreign\n",
            "|   |   |   |   |   |   |--- feature_41148 >  0.02\n",
            "|   |   |   |   |   |   |   |--- feature_41148 <= 0.07\n",
            "|   |   |   |   |   |   |   |   |--- feature_8724 <= 0.04\n",
            "|   |   |   |   |   |   |   |   |   |--- class: Comedy\n",
            "|   |   |   |   |   |   |   |   |--- feature_8724 >  0.04\n",
            "|   |   |   |   |   |   |   |   |   |--- class: Horror\n",
            "|   |   |   |   |   |   |   |--- feature_41148 >  0.07\n",
            "|   |   |   |   |   |   |   |   |--- class: Horror\n",
            "|   |   |   |   |   |--- feature_32745 >  0.04\n",
            "|   |   |   |   |   |   |--- feature_25072 <= 0.10\n",
            "|   |   |   |   |   |   |   |--- class: Comedy\n",
            "|   |   |   |   |   |   |--- feature_25072 >  0.10\n",
            "|   |   |   |   |   |   |   |--- class: Action\n",
            "|   |   |   |   |--- feature_4322 >  0.16\n",
            "|   |   |   |   |   |--- feature_16669 <= 0.05\n",
            "|   |   |   |   |   |   |--- class: Drama\n",
            "|   |   |   |   |   |--- feature_16669 >  0.05\n",
            "|   |   |   |   |   |   |--- class: Classics\n",
            "|   |   |--- feature_31822 >  0.03\n",
            "|   |   |   |--- feature_31822 <= 0.07\n",
            "|   |   |   |   |--- feature_34680 <= 0.02\n",
            "|   |   |   |   |   |--- feature_12876 <= 0.07\n",
            "|   |   |   |   |   |   |--- feature_6878 <= 0.04\n",
            "|   |   |   |   |   |   |   |--- feature_30249 <= 0.04\n",
            "|   |   |   |   |   |   |   |   |--- feature_6527 <= 0.03\n",
            "|   |   |   |   |   |   |   |   |   |--- feature_18516 <= 0.02\n",
            "|   |   |   |   |   |   |   |   |   |   |--- feature_11214 <= 0.04\n",
            "|   |   |   |   |   |   |   |   |   |   |   |--- truncated branch of depth 32\n",
            "|   |   |   |   |   |   |   |   |   |   |--- feature_11214 >  0.04\n",
            "|   |   |   |   |   |   |   |   |   |   |   |--- truncated branch of depth 7\n",
            "|   |   |   |   |   |   |   |   |   |--- feature_18516 >  0.02\n",
            "|   |   |   |   |   |   |   |   |   |   |--- feature_26566 <= 0.02\n",
            "|   |   |   |   |   |   |   |   |   |   |   |--- truncated branch of depth 5\n",
            "|   |   |   |   |   |   |   |   |   |   |--- feature_26566 >  0.02\n",
            "|   |   |   |   |   |   |   |   |   |   |   |--- truncated branch of depth 2\n",
            "|   |   |   |   |   |   |   |   |--- feature_6527 >  0.03\n",
            "|   |   |   |   |   |   |   |   |   |--- feature_35475 <= 0.02\n",
            "|   |   |   |   |   |   |   |   |   |   |--- feature_25271 <= 0.02\n",
            "|   |   |   |   |   |   |   |   |   |   |   |--- truncated branch of depth 2\n",
            "|   |   |   |   |   |   |   |   |   |   |--- feature_25271 >  0.02\n",
            "|   |   |   |   |   |   |   |   |   |   |   |--- class: Comedy\n",
            "|   |   |   |   |   |   |   |   |   |--- feature_35475 >  0.02\n",
            "|   |   |   |   |   |   |   |   |   |   |--- class: Romance\n",
            "|   |   |   |   |   |   |   |--- feature_30249 >  0.04\n",
            "|   |   |   |   |   |   |   |   |--- feature_20267 <= 0.06\n",
            "|   |   |   |   |   |   |   |   |   |--- class: Romance\n",
            "|   |   |   |   |   |   |   |   |--- feature_20267 >  0.06\n",
            "|   |   |   |   |   |   |   |   |   |--- class: Drama\n",
            "|   |   |   |   |   |   |--- feature_6878 >  0.04\n",
            "|   |   |   |   |   |   |   |--- class: Romance\n",
            "|   |   |   |   |   |--- feature_12876 >  0.07\n",
            "|   |   |   |   |   |   |--- class: Comedy\n",
            "|   |   |   |   |--- feature_34680 >  0.02\n",
            "|   |   |   |   |   |--- feature_35620 <= 0.06\n",
            "|   |   |   |   |   |   |--- class: Romance\n",
            "|   |   |   |   |   |--- feature_35620 >  0.06\n",
            "|   |   |   |   |   |   |--- feature_27336 <= 0.05\n",
            "|   |   |   |   |   |   |   |--- class: Drama\n",
            "|   |   |   |   |   |   |--- feature_27336 >  0.05\n",
            "|   |   |   |   |   |   |   |--- class: Art&Foreign\n",
            "|   |   |   |--- feature_31822 >  0.07\n",
            "|   |   |   |   |--- feature_38616 <= 0.06\n",
            "|   |   |   |   |   |--- feature_4783 <= 0.08\n",
            "|   |   |   |   |   |   |--- feature_21751 <= 0.08\n",
            "|   |   |   |   |   |   |   |--- feature_12208 <= 0.07\n",
            "|   |   |   |   |   |   |   |   |--- feature_35475 <= 0.06\n",
            "|   |   |   |   |   |   |   |   |   |--- feature_37065 <= 0.11\n",
            "|   |   |   |   |   |   |   |   |   |   |--- feature_32136 <= 0.03\n",
            "|   |   |   |   |   |   |   |   |   |   |   |--- truncated branch of depth 37\n",
            "|   |   |   |   |   |   |   |   |   |   |--- feature_32136 >  0.03\n",
            "|   |   |   |   |   |   |   |   |   |   |   |--- truncated branch of depth 3\n",
            "|   |   |   |   |   |   |   |   |   |--- feature_37065 >  0.11\n",
            "|   |   |   |   |   |   |   |   |   |   |--- feature_21733 <= 0.03\n",
            "|   |   |   |   |   |   |   |   |   |   |   |--- class: Comedy\n",
            "|   |   |   |   |   |   |   |   |   |   |--- feature_21733 >  0.03\n",
            "|   |   |   |   |   |   |   |   |   |   |   |--- class: Comedy\n",
            "|   |   |   |   |   |   |   |   |--- feature_35475 >  0.06\n",
            "|   |   |   |   |   |   |   |   |   |--- feature_22835 <= 0.07\n",
            "|   |   |   |   |   |   |   |   |   |   |--- feature_22870 <= 0.07\n",
            "|   |   |   |   |   |   |   |   |   |   |   |--- truncated branch of depth 3\n",
            "|   |   |   |   |   |   |   |   |   |   |--- feature_22870 >  0.07\n",
            "|   |   |   |   |   |   |   |   |   |   |   |--- truncated branch of depth 2\n",
            "|   |   |   |   |   |   |   |   |   |--- feature_22835 >  0.07\n",
            "|   |   |   |   |   |   |   |   |   |   |--- feature_12264 <= 0.08\n",
            "|   |   |   |   |   |   |   |   |   |   |   |--- class: Classics\n",
            "|   |   |   |   |   |   |   |   |   |   |--- feature_12264 >  0.08\n",
            "|   |   |   |   |   |   |   |   |   |   |   |--- class: Comedy\n",
            "|   |   |   |   |   |   |   |--- feature_12208 >  0.07\n",
            "|   |   |   |   |   |   |   |   |--- feature_21946 <= 0.04\n",
            "|   |   |   |   |   |   |   |   |   |--- class: Comedy\n",
            "|   |   |   |   |   |   |   |   |--- feature_21946 >  0.04\n",
            "|   |   |   |   |   |   |   |   |   |--- class: Art&Foreign\n",
            "|   |   |   |   |   |   |--- feature_21751 >  0.08\n",
            "|   |   |   |   |   |   |   |--- feature_11077 <= 0.13\n",
            "|   |   |   |   |   |   |   |   |--- class: Classics\n",
            "|   |   |   |   |   |   |   |--- feature_11077 >  0.13\n",
            "|   |   |   |   |   |   |   |   |--- class: Classics\n",
            "|   |   |   |   |   |--- feature_4783 >  0.08\n",
            "|   |   |   |   |   |   |--- feature_16518 <= 0.08\n",
            "|   |   |   |   |   |   |   |--- class: Drama\n",
            "|   |   |   |   |   |   |--- feature_16518 >  0.08\n",
            "|   |   |   |   |   |   |   |--- class: Classics\n",
            "|   |   |   |   |--- feature_38616 >  0.06\n",
            "|   |   |   |   |   |--- class: Romance\n",
            "|--- feature_10886 >  0.01\n",
            "|   |--- feature_11214 <= 0.02\n",
            "|   |   |--- feature_8765 <= 0.07\n",
            "|   |   |   |--- feature_23723 <= 0.02\n",
            "|   |   |   |   |--- feature_19812 <= 0.02\n",
            "|   |   |   |   |   |--- feature_25194 <= 0.02\n",
            "|   |   |   |   |   |   |--- feature_30983 <= 0.07\n",
            "|   |   |   |   |   |   |   |--- feature_31700 <= 0.02\n",
            "|   |   |   |   |   |   |   |   |--- feature_2411 <= 0.10\n",
            "|   |   |   |   |   |   |   |   |   |--- feature_28290 <= 0.03\n",
            "|   |   |   |   |   |   |   |   |   |   |--- feature_32002 <= 0.01\n",
            "|   |   |   |   |   |   |   |   |   |   |   |--- truncated branch of depth 60\n",
            "|   |   |   |   |   |   |   |   |   |   |--- feature_32002 >  0.01\n",
            "|   |   |   |   |   |   |   |   |   |   |   |--- truncated branch of depth 13\n",
            "|   |   |   |   |   |   |   |   |   |--- feature_28290 >  0.03\n",
            "|   |   |   |   |   |   |   |   |   |   |--- feature_27892 <= 0.03\n",
            "|   |   |   |   |   |   |   |   |   |   |   |--- truncated branch of depth 3\n",
            "|   |   |   |   |   |   |   |   |   |   |--- feature_27892 >  0.03\n",
            "|   |   |   |   |   |   |   |   |   |   |   |--- class: Art&Foreign\n",
            "|   |   |   |   |   |   |   |   |--- feature_2411 >  0.10\n",
            "|   |   |   |   |   |   |   |   |   |--- feature_28079 <= 0.06\n",
            "|   |   |   |   |   |   |   |   |   |   |--- feature_29955 <= 0.07\n",
            "|   |   |   |   |   |   |   |   |   |   |   |--- class: Comedy\n",
            "|   |   |   |   |   |   |   |   |   |   |--- feature_29955 >  0.07\n",
            "|   |   |   |   |   |   |   |   |   |   |   |--- class: Comedy\n",
            "|   |   |   |   |   |   |   |   |   |--- feature_28079 >  0.06\n",
            "|   |   |   |   |   |   |   |   |   |   |--- class: Classics\n",
            "|   |   |   |   |   |   |   |--- feature_31700 >  0.02\n",
            "|   |   |   |   |   |   |   |   |--- feature_41151 <= 0.18\n",
            "|   |   |   |   |   |   |   |   |   |--- feature_28248 <= 0.03\n",
            "|   |   |   |   |   |   |   |   |   |   |--- class: Classics\n",
            "|   |   |   |   |   |   |   |   |   |--- feature_28248 >  0.03\n",
            "|   |   |   |   |   |   |   |   |   |   |--- class: Classics\n",
            "|   |   |   |   |   |   |   |   |--- feature_41151 >  0.18\n",
            "|   |   |   |   |   |   |   |   |   |--- class: Action\n",
            "|   |   |   |   |   |   |--- feature_30983 >  0.07\n",
            "|   |   |   |   |   |   |   |--- feature_21733 <= 0.03\n",
            "|   |   |   |   |   |   |   |   |--- feature_33350 <= 0.04\n",
            "|   |   |   |   |   |   |   |   |   |--- class: Drama\n",
            "|   |   |   |   |   |   |   |   |--- feature_33350 >  0.04\n",
            "|   |   |   |   |   |   |   |   |   |--- class: Art&Foreign\n",
            "|   |   |   |   |   |   |   |--- feature_21733 >  0.03\n",
            "|   |   |   |   |   |   |   |   |--- feature_10387 <= 0.05\n",
            "|   |   |   |   |   |   |   |   |   |--- class: Mystery\n",
            "|   |   |   |   |   |   |   |   |--- feature_10387 >  0.05\n",
            "|   |   |   |   |   |   |   |   |   |--- class: Comedy\n",
            "|   |   |   |   |   |--- feature_25194 >  0.02\n",
            "|   |   |   |   |   |   |--- feature_26284 <= 0.05\n",
            "|   |   |   |   |   |   |   |--- feature_14641 <= 0.02\n",
            "|   |   |   |   |   |   |   |   |--- feature_25271 <= 0.02\n",
            "|   |   |   |   |   |   |   |   |   |--- feature_24916 <= 0.06\n",
            "|   |   |   |   |   |   |   |   |   |   |--- feature_35790 <= 0.02\n",
            "|   |   |   |   |   |   |   |   |   |   |   |--- class: Documentary\n",
            "|   |   |   |   |   |   |   |   |   |   |--- feature_35790 >  0.02\n",
            "|   |   |   |   |   |   |   |   |   |   |   |--- truncated branch of depth 2\n",
            "|   |   |   |   |   |   |   |   |   |--- feature_24916 >  0.06\n",
            "|   |   |   |   |   |   |   |   |   |   |--- class: Mystery\n",
            "|   |   |   |   |   |   |   |   |--- feature_25271 >  0.02\n",
            "|   |   |   |   |   |   |   |   |   |--- feature_36096 <= 0.03\n",
            "|   |   |   |   |   |   |   |   |   |   |--- class: Drama\n",
            "|   |   |   |   |   |   |   |   |   |--- feature_36096 >  0.03\n",
            "|   |   |   |   |   |   |   |   |   |   |--- class: Comedy\n",
            "|   |   |   |   |   |   |   |--- feature_14641 >  0.02\n",
            "|   |   |   |   |   |   |   |   |--- feature_31292 <= 0.08\n",
            "|   |   |   |   |   |   |   |   |   |--- class: Kids&Family\n",
            "|   |   |   |   |   |   |   |   |--- feature_31292 >  0.08\n",
            "|   |   |   |   |   |   |   |   |   |--- class: Horror\n",
            "|   |   |   |   |   |   |--- feature_26284 >  0.05\n",
            "|   |   |   |   |   |   |   |--- feature_22739 <= 0.03\n",
            "|   |   |   |   |   |   |   |   |--- class: Drama\n",
            "|   |   |   |   |   |   |   |--- feature_22739 >  0.03\n",
            "|   |   |   |   |   |   |   |   |--- class: Drama\n",
            "|   |   |   |   |--- feature_19812 >  0.02\n",
            "|   |   |   |   |   |--- feature_3360 <= 0.02\n",
            "|   |   |   |   |   |   |--- feature_19812 <= 0.05\n",
            "|   |   |   |   |   |   |   |--- feature_11997 <= 0.05\n",
            "|   |   |   |   |   |   |   |   |--- class: Drama\n",
            "|   |   |   |   |   |   |   |--- feature_11997 >  0.05\n",
            "|   |   |   |   |   |   |   |   |--- class: Action\n",
            "|   |   |   |   |   |   |--- feature_19812 >  0.05\n",
            "|   |   |   |   |   |   |   |--- feature_23644 <= 0.04\n",
            "|   |   |   |   |   |   |   |   |--- class: Documentary\n",
            "|   |   |   |   |   |   |   |--- feature_23644 >  0.04\n",
            "|   |   |   |   |   |   |   |   |--- feature_4599 <= 0.09\n",
            "|   |   |   |   |   |   |   |   |   |--- class: Documentary\n",
            "|   |   |   |   |   |   |   |   |--- feature_4599 >  0.09\n",
            "|   |   |   |   |   |   |   |   |   |--- class: Drama\n",
            "|   |   |   |   |   |--- feature_3360 >  0.02\n",
            "|   |   |   |   |   |   |--- feature_35353 <= 0.03\n",
            "|   |   |   |   |   |   |   |--- feature_33232 <= 0.04\n",
            "|   |   |   |   |   |   |   |   |--- class: Comedy\n",
            "|   |   |   |   |   |   |   |--- feature_33232 >  0.04\n",
            "|   |   |   |   |   |   |   |   |--- class: Comedy\n",
            "|   |   |   |   |   |   |--- feature_35353 >  0.03\n",
            "|   |   |   |   |   |   |   |--- class: Comedy\n",
            "|   |   |   |--- feature_23723 >  0.02\n",
            "|   |   |   |   |--- feature_22739 <= 0.10\n",
            "|   |   |   |   |   |--- feature_1577 <= 0.02\n",
            "|   |   |   |   |   |   |--- feature_12091 <= 0.04\n",
            "|   |   |   |   |   |   |   |--- feature_36037 <= 0.04\n",
            "|   |   |   |   |   |   |   |   |--- feature_22234 <= 0.02\n",
            "|   |   |   |   |   |   |   |   |   |--- class: Action\n",
            "|   |   |   |   |   |   |   |   |--- feature_22234 >  0.02\n",
            "|   |   |   |   |   |   |   |   |   |--- class: Drama\n",
            "|   |   |   |   |   |   |   |--- feature_36037 >  0.04\n",
            "|   |   |   |   |   |   |   |   |--- class: Classics\n",
            "|   |   |   |   |   |   |--- feature_12091 >  0.04\n",
            "|   |   |   |   |   |   |   |--- class: Comedy\n",
            "|   |   |   |   |   |--- feature_1577 >  0.02\n",
            "|   |   |   |   |   |   |--- feature_10446 <= 0.03\n",
            "|   |   |   |   |   |   |   |--- class: Horror\n",
            "|   |   |   |   |   |   |--- feature_10446 >  0.03\n",
            "|   |   |   |   |   |   |   |--- class: Mystery\n",
            "|   |   |   |   |--- feature_22739 >  0.10\n",
            "|   |   |   |   |   |--- class: Comedy\n",
            "|   |   |--- feature_8765 >  0.07\n",
            "|   |   |   |--- feature_17705 <= 0.03\n",
            "|   |   |   |   |--- feature_10886 <= 0.07\n",
            "|   |   |   |   |   |--- feature_22549 <= 0.06\n",
            "|   |   |   |   |   |   |--- class: Documentary\n",
            "|   |   |   |   |   |--- feature_22549 >  0.06\n",
            "|   |   |   |   |   |   |--- class: Romance\n",
            "|   |   |   |   |--- feature_10886 >  0.07\n",
            "|   |   |   |   |   |--- feature_13744 <= 0.07\n",
            "|   |   |   |   |   |   |--- feature_28143 <= 0.07\n",
            "|   |   |   |   |   |   |   |--- feature_13717 <= 0.07\n",
            "|   |   |   |   |   |   |   |   |--- feature_10886 <= 0.08\n",
            "|   |   |   |   |   |   |   |   |   |--- feature_9523 <= 0.03\n",
            "|   |   |   |   |   |   |   |   |   |   |--- class: Comedy\n",
            "|   |   |   |   |   |   |   |   |   |--- feature_9523 >  0.03\n",
            "|   |   |   |   |   |   |   |   |   |   |--- class: Art&Foreign\n",
            "|   |   |   |   |   |   |   |   |--- feature_10886 >  0.08\n",
            "|   |   |   |   |   |   |   |   |   |--- feature_41148 <= 0.03\n",
            "|   |   |   |   |   |   |   |   |   |   |--- feature_19152 <= 0.06\n",
            "|   |   |   |   |   |   |   |   |   |   |   |--- class: Comedy\n",
            "|   |   |   |   |   |   |   |   |   |   |--- feature_19152 >  0.06\n",
            "|   |   |   |   |   |   |   |   |   |   |   |--- class: Documentary\n",
            "|   |   |   |   |   |   |   |   |   |--- feature_41148 >  0.03\n",
            "|   |   |   |   |   |   |   |   |   |   |--- class: Documentary\n",
            "|   |   |   |   |   |   |   |--- feature_13717 >  0.07\n",
            "|   |   |   |   |   |   |   |   |--- class: Action\n",
            "|   |   |   |   |   |   |--- feature_28143 >  0.07\n",
            "|   |   |   |   |   |   |   |--- feature_41294 <= 0.08\n",
            "|   |   |   |   |   |   |   |   |--- class: Action\n",
            "|   |   |   |   |   |   |   |--- feature_41294 >  0.08\n",
            "|   |   |   |   |   |   |   |   |--- class: Action\n",
            "|   |   |   |   |   |--- feature_13744 >  0.07\n",
            "|   |   |   |   |   |   |--- feature_4013 <= 0.06\n",
            "|   |   |   |   |   |   |   |--- class: Horror\n",
            "|   |   |   |   |   |   |--- feature_4013 >  0.06\n",
            "|   |   |   |   |   |   |   |--- class: Mystery\n",
            "|   |   |   |--- feature_17705 >  0.03\n",
            "|   |   |   |   |--- feature_2120 <= 0.09\n",
            "|   |   |   |   |   |--- feature_32718 <= 0.03\n",
            "|   |   |   |   |   |   |--- class: Horror\n",
            "|   |   |   |   |   |--- feature_32718 >  0.03\n",
            "|   |   |   |   |   |   |--- class: Art&Foreign\n",
            "|   |   |   |   |--- feature_2120 >  0.09\n",
            "|   |   |   |   |   |--- class: Horror\n",
            "|   |--- feature_11214 >  0.02\n",
            "|   |   |--- feature_21534 <= 0.05\n",
            "|   |   |   |--- feature_9847 <= 0.02\n",
            "|   |   |   |   |--- feature_20572 <= 0.02\n",
            "|   |   |   |   |   |--- feature_28319 <= 0.03\n",
            "|   |   |   |   |   |   |--- feature_28677 <= 0.03\n",
            "|   |   |   |   |   |   |   |--- feature_10453 <= 0.03\n",
            "|   |   |   |   |   |   |   |   |--- feature_16875 <= 0.03\n",
            "|   |   |   |   |   |   |   |   |   |--- feature_22835 <= 0.01\n",
            "|   |   |   |   |   |   |   |   |   |   |--- class: Drama\n",
            "|   |   |   |   |   |   |   |   |   |--- feature_22835 >  0.01\n",
            "|   |   |   |   |   |   |   |   |   |   |--- feature_11311 <= 0.04\n",
            "|   |   |   |   |   |   |   |   |   |   |   |--- class: Action\n",
            "|   |   |   |   |   |   |   |   |   |   |--- feature_11311 >  0.04\n",
            "|   |   |   |   |   |   |   |   |   |   |   |--- class: Drama\n",
            "|   |   |   |   |   |   |   |   |--- feature_16875 >  0.03\n",
            "|   |   |   |   |   |   |   |   |   |--- feature_10711 <= 0.07\n",
            "|   |   |   |   |   |   |   |   |   |   |--- class: Classics\n",
            "|   |   |   |   |   |   |   |   |   |--- feature_10711 >  0.07\n",
            "|   |   |   |   |   |   |   |   |   |   |--- class: Drama\n",
            "|   |   |   |   |   |   |   |--- feature_10453 >  0.03\n",
            "|   |   |   |   |   |   |   |   |--- feature_17782 <= 0.04\n",
            "|   |   |   |   |   |   |   |   |   |--- feature_9403 <= 0.10\n",
            "|   |   |   |   |   |   |   |   |   |   |--- feature_30733 <= 0.04\n",
            "|   |   |   |   |   |   |   |   |   |   |   |--- class: Comedy\n",
            "|   |   |   |   |   |   |   |   |   |   |--- feature_30733 >  0.04\n",
            "|   |   |   |   |   |   |   |   |   |   |   |--- class: Comedy\n",
            "|   |   |   |   |   |   |   |   |   |--- feature_9403 >  0.10\n",
            "|   |   |   |   |   |   |   |   |   |   |--- class: Comedy\n",
            "|   |   |   |   |   |   |   |   |--- feature_17782 >  0.04\n",
            "|   |   |   |   |   |   |   |   |   |--- class: Art&Foreign\n",
            "|   |   |   |   |   |   |--- feature_28677 >  0.03\n",
            "|   |   |   |   |   |   |   |--- feature_28656 <= 0.04\n",
            "|   |   |   |   |   |   |   |   |--- class: Art&Foreign\n",
            "|   |   |   |   |   |   |   |--- feature_28656 >  0.04\n",
            "|   |   |   |   |   |   |   |   |--- class: Comedy\n",
            "|   |   |   |   |   |--- feature_28319 >  0.03\n",
            "|   |   |   |   |   |   |--- feature_3551 <= 0.06\n",
            "|   |   |   |   |   |   |   |--- class: Documentary\n",
            "|   |   |   |   |   |   |--- feature_3551 >  0.06\n",
            "|   |   |   |   |   |   |   |--- class: Documentary\n",
            "|   |   |   |   |--- feature_20572 >  0.02\n",
            "|   |   |   |   |   |--- class: Documentary\n",
            "|   |   |   |--- feature_9847 >  0.02\n",
            "|   |   |   |   |--- class: Action\n",
            "|   |   |--- feature_21534 >  0.05\n",
            "|   |   |   |--- class: Documentary\n",
            "\n"
          ],
          "name": "stdout"
        }
      ]
    },
    {
      "cell_type": "code",
      "metadata": {
        "id": "FvMMDtpeZCML",
        "colab": {
          "base_uri": "https://localhost:8080/"
        },
        "outputId": "3433bf94-9287-40ae-f221-49d36f7342bd"
      },
      "source": [
        "print(classification_report(test['Genre'], clf.predict(tfidf[[i for i in range(len(df)) if not msk[i]]]), target_names=df['Genre'].unique()))"
      ],
      "execution_count": 9,
      "outputs": [
        {
          "output_type": "stream",
          "text": [
            "              precision    recall  f1-score   support\n",
            "\n",
            "      Action       0.04      0.06      0.05       633\n",
            " Art&Foreign       0.01      0.01      0.01       484\n",
            "    Classics       0.02      0.03      0.02       274\n",
            "      Comedy       0.12      0.14      0.13       755\n",
            " Documentary       0.49      0.45      0.47       325\n",
            "       Drama       0.16      0.14      0.15      1584\n",
            "      Horror       0.10      0.09      0.09       328\n",
            " Kids&Family       0.03      0.02      0.03       181\n",
            "     Mystery       0.02      0.02      0.02       599\n",
            "     Romance       0.01      0.01      0.01       349\n",
            "       SciFi       0.01      0.00      0.00       350\n",
            "\n",
            "    accuracy                           0.10      5862\n",
            "   macro avg       0.09      0.09      0.09      5862\n",
            "weighted avg       0.10      0.10      0.10      5862\n",
            "\n"
          ],
          "name": "stdout"
        }
      ]
    },
    {
      "cell_type": "markdown",
      "metadata": {
        "id": "fobeBhmveWQY"
      },
      "source": [
        "L'arbre binaire qu'on a utilisé nous permet de bien classifier la classe Documentary, cependant les résultats pour les autre classes ne cont pas très performants."
      ]
    },
    {
      "cell_type": "markdown",
      "metadata": {
        "id": "zYQpF4MqGN7n"
      },
      "source": [
        "## 6. Autres modèles\n",
        "Utilisez d’autres classifieurs comme [NaiveBayes](https://scikit-learn.org/stable/modules/naive_bayes.html) ou les Support Vector Machines (SVM [link text](https://scikit-learn.org/stable/modules/generated/sklearn.svm.SVC.html)) dans votre code. "
      ]
    },
    {
      "cell_type": "code",
      "metadata": {
        "id": "oJK5Xs-cbwqF"
      },
      "source": [
        "from sklearn.naive_bayes import MultinomialNB"
      ],
      "execution_count": 19,
      "outputs": []
    },
    {
      "cell_type": "code",
      "metadata": {
        "id": "fzdvNXwjdfGS"
      },
      "source": [
        "import warnings\n",
        "warnings.filterwarnings('ignore')"
      ],
      "execution_count": 20,
      "outputs": []
    },
    {
      "cell_type": "markdown",
      "metadata": {
        "id": "tnhvtol5gxwd"
      },
      "source": [
        "###Classifieur Multinomial : "
      ]
    },
    {
      "cell_type": "code",
      "metadata": {
        "id": "zTmoQfvachEx",
        "colab": {
          "base_uri": "https://localhost:8080/"
        },
        "outputId": "a6ae78ad-1b9e-4462-abd1-a2ac75ca5279"
      },
      "source": [
        "clf2 = MultinomialNB() \n",
        "clf2.fit(traintfidf,train['Genre'])"
      ],
      "execution_count": 21,
      "outputs": [
        {
          "output_type": "execute_result",
          "data": {
            "text/plain": [
              "MultinomialNB(alpha=1.0, class_prior=None, fit_prior=True)"
            ]
          },
          "metadata": {
            "tags": []
          },
          "execution_count": 21
        }
      ]
    },
    {
      "cell_type": "code",
      "metadata": {
        "id": "LsecaN_6cvya"
      },
      "source": [
        "predict_NB = clf2.predict(tfidf[[i for i in range(len(df)) if not msk[i]]])"
      ],
      "execution_count": 13,
      "outputs": []
    },
    {
      "cell_type": "code",
      "metadata": {
        "id": "ljD1tGqldaao",
        "colab": {
          "base_uri": "https://localhost:8080/"
        },
        "outputId": "58f9f5c4-0047-43a5-ae0a-c6ff1c3a854d"
      },
      "source": [
        "print(classification_report(test['Genre'], predict_NB, target_names=df['Genre'].unique()))"
      ],
      "execution_count": 16,
      "outputs": [
        {
          "output_type": "stream",
          "text": [
            "              precision    recall  f1-score   support\n",
            "\n",
            "      Action       0.16      0.02      0.04       633\n",
            " Art&Foreign       0.33      0.00      0.00       484\n",
            "    Classics       0.00      0.00      0.00       274\n",
            "      Comedy       0.12      0.01      0.01       755\n",
            " Documentary       0.40      0.01      0.01       325\n",
            "       Drama       0.27      0.98      0.43      1584\n",
            "      Horror       0.25      0.01      0.02       328\n",
            " Kids&Family       0.00      0.00      0.00       181\n",
            "     Mystery       0.00      0.00      0.00       599\n",
            "     Romance       0.00      0.00      0.00       349\n",
            "       SciFi       0.00      0.00      0.00       350\n",
            "\n",
            "    accuracy                           0.27      5862\n",
            "   macro avg       0.14      0.09      0.05      5862\n",
            "weighted avg       0.17      0.27      0.12      5862\n",
            "\n"
          ],
          "name": "stdout"
        }
      ]
    },
    {
      "cell_type": "markdown",
      "metadata": {
        "id": "MjHAkUvuk21Z"
      },
      "source": [
        "On remarque que l'on a une bonne classification pour la catégorie Documentary mais les autres résultats ne sont pas performants. En effet, on a beaucoup de précision égale à 0. \n"
      ]
    },
    {
      "cell_type": "markdown",
      "metadata": {
        "id": "7vWgB97iekfK"
      },
      "source": [
        "###Classifieur Bernouilli : "
      ]
    },
    {
      "cell_type": "code",
      "metadata": {
        "id": "b-GDGWNxe3ri"
      },
      "source": [
        "from sklearn.naive_bayes import BernoulliNB "
      ],
      "execution_count": 17,
      "outputs": []
    },
    {
      "cell_type": "code",
      "metadata": {
        "id": "kKmCHeagenKR"
      },
      "source": [
        "bern = BernoulliNB() \n",
        "bern.fit(traintfidf,train['Genre'])\n",
        "predict_bernoulli = bern.predict(tfidf[[i for i in range(len(df)) if not msk[i]]])"
      ],
      "execution_count": 18,
      "outputs": []
    },
    {
      "cell_type": "code",
      "metadata": {
        "id": "AJLYpK7QezXN",
        "colab": {
          "base_uri": "https://localhost:8080/"
        },
        "outputId": "75700f75-578b-462b-effc-515f721de869"
      },
      "source": [
        "print(classification_report(test['Genre'], predict_bernoulli, target_names=df['Genre'].unique()))"
      ],
      "execution_count": 19,
      "outputs": [
        {
          "output_type": "stream",
          "text": [
            "              precision    recall  f1-score   support\n",
            "\n",
            "      Action       0.18      0.18      0.18       633\n",
            " Art&Foreign       0.06      0.03      0.04       484\n",
            "    Classics       0.14      0.13      0.13       274\n",
            "      Comedy       0.28      0.25      0.27       755\n",
            " Documentary       0.68      0.56      0.61       325\n",
            "       Drama       0.30      0.53      0.38      1584\n",
            "      Horror       0.21      0.13      0.16       328\n",
            " Kids&Family       0.04      0.01      0.02       181\n",
            "     Mystery       0.13      0.11      0.12       599\n",
            "     Romance       0.04      0.01      0.02       349\n",
            "       SciFi       0.09      0.04      0.06       350\n",
            "\n",
            "    accuracy                           0.26      5862\n",
            "   macro avg       0.19      0.18      0.18      5862\n",
            "weighted avg       0.22      0.26      0.23      5862\n",
            "\n"
          ],
          "name": "stdout"
        }
      ]
    },
    {
      "cell_type": "markdown",
      "metadata": {
        "id": "pVw6fT9QlHFM"
      },
      "source": [
        "On a de bon résultats pour la catégorie Documentary, mais les autres résultats ne sont pas très performants. On voit déjà une amélioration par rapport à précédemment puisque aucune précision n'est égale à 0, les précisions sont plus hautes."
      ]
    },
    {
      "cell_type": "markdown",
      "metadata": {
        "id": "q0wTa4Iug1CO"
      },
      "source": [
        "###Classifieur SVM : "
      ]
    },
    {
      "cell_type": "code",
      "metadata": {
        "id": "V9I8z-_CgoEx"
      },
      "source": [
        "from sklearn.svm import SVC"
      ],
      "execution_count": 20,
      "outputs": []
    },
    {
      "cell_type": "code",
      "metadata": {
        "id": "Mt26-VNUk28e"
      },
      "source": [
        "from sklearn.pipeline import make_pipeline\n",
        "from sklearn.preprocessing import StandardScaler"
      ],
      "execution_count": 21,
      "outputs": []
    },
    {
      "cell_type": "code",
      "metadata": {
        "id": "cSNrZNkOdFu2"
      },
      "source": [
        "sc = StandardScaler(with_mean=False)"
      ],
      "execution_count": 22,
      "outputs": []
    },
    {
      "cell_type": "code",
      "metadata": {
        "id": "mzYGukl5ZQ6R"
      },
      "source": [
        "svc = make_pipeline(sc, SVC(gamma='auto'))"
      ],
      "execution_count": 23,
      "outputs": []
    },
    {
      "cell_type": "code",
      "metadata": {
        "id": "lzjvWMb5dTJE",
        "colab": {
          "base_uri": "https://localhost:8080/"
        },
        "outputId": "4383d64c-9c02-4117-dd59-f91072696625"
      },
      "source": [
        "svc.fit(traintfidf,train['Genre'])"
      ],
      "execution_count": 24,
      "outputs": [
        {
          "output_type": "execute_result",
          "data": {
            "text/plain": [
              "Pipeline(memory=None,\n",
              "         steps=[('standardscaler',\n",
              "                 StandardScaler(copy=True, with_mean=False, with_std=True)),\n",
              "                ('svc',\n",
              "                 SVC(C=1.0, break_ties=False, cache_size=200, class_weight=None,\n",
              "                     coef0=0.0, decision_function_shape='ovr', degree=3,\n",
              "                     gamma='auto', kernel='rbf', max_iter=-1, probability=False,\n",
              "                     random_state=None, shrinking=True, tol=0.001,\n",
              "                     verbose=False))],\n",
              "         verbose=False)"
            ]
          },
          "metadata": {
            "tags": []
          },
          "execution_count": 24
        }
      ]
    },
    {
      "cell_type": "code",
      "metadata": {
        "id": "JojRBnw1rTyq",
        "colab": {
          "base_uri": "https://localhost:8080/"
        },
        "outputId": "8f8a6279-b430-44e0-d4cb-73234c00a808"
      },
      "source": [
        "print(classification_report(test['Genre'], svc.predict(tfidf[[i for i in range(len(df)) if not msk[i]]]), target_names=df['Genre'].unique()))"
      ],
      "execution_count": 25,
      "outputs": [
        {
          "output_type": "stream",
          "text": [
            "              precision    recall  f1-score   support\n",
            "\n",
            "      Action       0.01      0.01      0.01       633\n",
            " Art&Foreign       0.00      0.00      0.00       484\n",
            "    Classics       0.00      0.00      0.00       274\n",
            "      Comedy       0.01      0.01      0.01       755\n",
            " Documentary       0.13      0.02      0.04       325\n",
            "       Drama       0.21      0.48      0.29      1584\n",
            "      Horror       0.01      0.00      0.00       328\n",
            " Kids&Family       0.00      0.00      0.00       181\n",
            "     Mystery       0.00      0.00      0.00       599\n",
            "     Romance       0.00      0.00      0.00       349\n",
            "       SciFi       0.01      0.00      0.00       350\n",
            "\n",
            "    accuracy                           0.13      5862\n",
            "   macro avg       0.03      0.05      0.03      5862\n",
            "weighted avg       0.07      0.13      0.08      5862\n",
            "\n"
          ],
          "name": "stdout"
        }
      ]
    },
    {
      "cell_type": "markdown",
      "metadata": {
        "id": "D-pxKslQh_jE"
      },
      "source": [
        "Cette méthode semble moins éfficace que les précédentes, cela est peut-être dûe aux paramètres utilisés. Néamoins, contrairement à précédemment, c'est la classe Drama qui a la meilleure précision."
      ]
    },
    {
      "cell_type": "markdown",
      "metadata": {
        "id": "8M9iSl1kerXm"
      },
      "source": [
        "## 7. Validation croisée\n",
        "Trouvez les meilleurs paramètres pour chaque classifieur en utilisant la [validation croisée](https://scikit-learn.org/stable/modules/generated/sklearn.model_selection.cross_validate.html) et un [grid search](https://scikit-learn.org/stable/modules/grid_search.html) de méilleurs paramètres sur l'ensemble d'entraînement. Quelle méthode a les meilleurs performances ? "
      ]
    },
    {
      "cell_type": "markdown",
      "metadata": {
        "id": "FLYBmWqya1t5"
      },
      "source": [
        "On sait qu'un modèle est évalué avec une base de test différente de la base d'apprentissage. La performance dépend alors du découpage, une bonne perfomance (respectivement une mauvaise performance) peut être du à un découpage avantageux (respectivement non avantageux). \n",
        "Pour être sur que le modèle est robuste, on doit réaliser cela plusieurs fois. On utilise alors la validation croisée. "
      ]
    },
    {
      "cell_type": "code",
      "metadata": {
        "id": "Mz1so1jtCU53"
      },
      "source": [
        "from sklearn.model_selection import cross_val_score\n",
        "from sklearn.model_selection import cross_validate\n",
        "from sklearn.model_selection import ShuffleSplit\n",
        "from sklearn.model_selection import cross_val_predict\n",
        "from sklearn.metrics import make_scorer, r2_score"
      ],
      "execution_count": 7,
      "outputs": []
    },
    {
      "cell_type": "code",
      "metadata": {
        "id": "trscKA4drlxT"
      },
      "source": [
        "from sklearn import datasets\n",
        "from sklearn.model_selection import train_test_split\n",
        "from sklearn.model_selection import GridSearchCV\n",
        "from sklearn.metrics import classification_report\n",
        "from sklearn.svm import SVC\n",
        "import sklearn "
      ],
      "execution_count": 8,
      "outputs": []
    },
    {
      "cell_type": "code",
      "metadata": {
        "id": "W7lXbDl-z8Kd"
      },
      "source": [
        "import warnings\n",
        "warnings.filterwarnings('ignore')"
      ],
      "execution_count": 9,
      "outputs": []
    },
    {
      "cell_type": "markdown",
      "metadata": {
        "id": "TwmFXcbcgGET"
      },
      "source": [
        "La méthode gridSearch permet de contourner le tri des données. En effet, si les données sont triées, on va chercher à tester sur une base d'apprentissage non entrainée sur ces données. Par exemple si la base d'apprentissage ne se base que sur les films des catégories Classic et Comedy il va avoir du mal à reconnaitre les autres. \n",
        "Elle utilise la validation croisée, on a va essayer de retrouver les meilleurs paramètres. \n",
        "\n",
        "\n",
        "La fonction suivante permet de trouver les meilleurs paramètres pour une méthode parmis ceux passés en entrée. "
      ]
    },
    {
      "cell_type": "code",
      "metadata": {
        "id": "Jv5zX1u4ejfs"
      },
      "source": [
        "def bestParam(methode, tuned_parameters, scores): \n",
        "  for score in scores:\n",
        "    print(\"# Tuning hyper-parameters for %s\" % score)\n",
        "    print()\n",
        "\n",
        "    search = GridSearchCV(\n",
        "        methode, tuned_parameters, scoring='%s_macro' % score\n",
        "    )\n",
        "    search.fit(traintfidf,train['Genre'])\n",
        "\n",
        "    print(\"Best parameters set found on development set:\")\n",
        "    print()\n",
        "    print(search.best_params_)\n",
        "    print()\n",
        "    print(\"Best score : \" + str(search.best_score_))\n",
        "    print() \n",
        "    print()\n",
        "\n",
        "  print(\"Globality : \")\n",
        "  print() \n",
        "  print(\"Detailed classification report:\")\n",
        "  print()\n",
        "  print(print(classification_report(test['Genre'], search.predict(tfidf[[i for i in range(len(df)) if not msk[i]]]), target_names=df['Genre'].unique())))\n",
        "  print()\n",
        "\n",
        "\n",
        "  search = GridSearchCV(methode, tuned_parameters, scoring=None)\n",
        "  search.fit(traintfidf,train['Genre'])\n",
        "  print(\"Best parameters set found on development set:\")\n",
        "  print()\n",
        "  print(search.best_params_)\n",
        "  print()\n",
        "  print(\"Best score : \" + str(search.best_score_))\n",
        "  print() "
      ],
      "execution_count": 10,
      "outputs": []
    },
    {
      "cell_type": "markdown",
      "metadata": {
        "id": "0IPHfabMmX0O"
      },
      "source": [
        "### **Tree classifieur :** \n"
      ]
    },
    {
      "cell_type": "markdown",
      "metadata": {
        "id": "iH9BDkdCmX0S"
      },
      "source": [
        "Le score : "
      ]
    },
    {
      "cell_type": "markdown",
      "metadata": {
        "id": "EqF_acgXmX0T"
      },
      "source": [
        "Ici on utilise le score par défaut. "
      ]
    },
    {
      "cell_type": "code",
      "metadata": {
        "id": "1DX-kXRCmX0T"
      },
      "source": [
        "scores_tree =  cross_val_score(clf, traintfidf,train['Genre'], cv=5)"
      ],
      "execution_count": 15,
      "outputs": []
    },
    {
      "cell_type": "code",
      "metadata": {
        "id": "sGOleu0dmX0Y",
        "colab": {
          "base_uri": "https://localhost:8080/"
        },
        "outputId": "8d743299-8846-49f6-875b-7e8a993c89fa"
      },
      "source": [
        "print(\"Accuracy: %0.2f (+/- %0.2f)\" % (scores_tree.mean(), scores_tree.std() * 2))"
      ],
      "execution_count": 16,
      "outputs": [
        {
          "output_type": "stream",
          "text": [
            "Accuracy: 0.14 (+/- 0.01)\n"
          ],
          "name": "stdout"
        }
      ]
    },
    {
      "cell_type": "markdown",
      "metadata": {
        "id": "IvWtsU-qmX0a"
      },
      "source": [
        "La précision de ce modèle sur les données de test est d'envrion 14%. "
      ]
    },
    {
      "cell_type": "code",
      "metadata": {
        "id": "K5GPQZ16ilZb"
      },
      "source": [
        "scores = ['precision', 'recall', 'f1']"
      ],
      "execution_count": 32,
      "outputs": []
    },
    {
      "cell_type": "code",
      "metadata": {
        "id": "YMCkgYp0j6Wk"
      },
      "source": [
        "tuned_parameters_tree = [{'criterion': ['gini', 'entropy'], \n",
        "                          'splitter' : ['best', 'random'], \n",
        "                          'max_depth' : [None, 0, 10, 100],                         \n",
        "                          }]"
      ],
      "execution_count": 34,
      "outputs": []
    },
    {
      "cell_type": "code",
      "metadata": {
        "id": "sGCVRa93jmIH",
        "colab": {
          "base_uri": "https://localhost:8080/"
        },
        "outputId": "adb40b41-9dd0-4b4c-b9b8-2df1eb3a1f6f"
      },
      "source": [
        "bestParam(tree.DecisionTreeClassifier(), tuned_parameters_tree, scores)"
      ],
      "execution_count": 35,
      "outputs": [
        {
          "output_type": "stream",
          "text": [
            "# Tuning hyper-parameters for precision\n",
            "\n",
            "Best parameters set found on development set:\n",
            "\n",
            "{'criterion': 'gini', 'max_depth': 10, 'splitter': 'best'}\n",
            "\n",
            "Best score : 0.2924445727339012\n",
            "\n",
            "\n",
            "# Tuning hyper-parameters for recall\n",
            "\n",
            "Best parameters set found on development set:\n",
            "\n",
            "{'criterion': 'gini', 'max_depth': 10, 'splitter': 'best'}\n",
            "\n",
            "Best score : 0.19485560763201384\n",
            "\n",
            "\n",
            "# Tuning hyper-parameters for f1\n",
            "\n",
            "Best parameters set found on development set:\n",
            "\n",
            "{'criterion': 'gini', 'max_depth': 10, 'splitter': 'best'}\n",
            "\n",
            "Best score : 0.2004295636116153\n",
            "\n",
            "\n",
            "Globality : \n",
            "\n",
            "Detailed classification report:\n",
            "\n",
            "              precision    recall  f1-score   support\n",
            "\n",
            "      Action       0.23      0.08      0.12       633\n",
            " Art&Foreign       0.15      0.02      0.03       484\n",
            "    Classics       0.11      0.02      0.03       274\n",
            "      Comedy       0.41      0.27      0.33       755\n",
            " Documentary       0.67      0.46      0.55       325\n",
            "       Drama       0.31      0.81      0.44      1584\n",
            "      Horror       0.34      0.18      0.24       328\n",
            " Kids&Family       0.32      0.10      0.15       181\n",
            "     Mystery       0.34      0.15      0.20       599\n",
            "     Romance       0.17      0.02      0.04       349\n",
            "       SciFi       0.23      0.07      0.11       350\n",
            "\n",
            "    accuracy                           0.32      5862\n",
            "   macro avg       0.30      0.20      0.20      5862\n",
            "weighted avg       0.30      0.32      0.26      5862\n",
            "\n",
            "None\n",
            "\n",
            "Best parameters set found on development set:\n",
            "\n",
            "{'criterion': 'gini', 'max_depth': 10, 'splitter': 'best'}\n",
            "\n",
            "Best score : 0.3164974157580883\n",
            "\n"
          ],
          "name": "stdout"
        }
      ]
    },
    {
      "cell_type": "markdown",
      "metadata": {
        "id": "0nz57l9Qm9ix"
      },
      "source": [
        "On remarque ceci : \n",
        "\n",
        "\n",
        "*   avec la précision : \n",
        "        le meilleur score est de 0,29 \n",
        "        avec les paramètres : {'criterion': 'gini', 'max_depth': 10, 'splitter': 'best'}\n",
        "*   avec recall : \n",
        "        le meilleur score est de 0,19 \n",
        "        avec les paramètres : {'criterion': 'gini', 'max_depth': 10, 'splitter': 'best'}\n",
        "*   avec f1 : \n",
        "        le meilleur score est de 0,20 \n",
        "        avec les paramètres : {'criterion': 'gini', 'max_depth': 10, 'splitter': 'best'} \n",
        "\n",
        "En globalité, \n",
        "le meilleur score est de 0,31 \n",
        "avec les paramètres : {'criterion': 'gini', 'max_depth': 10, 'splitter': 'best'} \n",
        "\n",
        "On en déduit donc que les meilleurs paramètres parmi ceux passés en entrées sont : {'criterion': 'gini', 'max_depth': 10, 'splitter': 'best'}\n",
        "\n",
        "\n"
      ]
    },
    {
      "cell_type": "markdown",
      "metadata": {
        "id": "EwICgrLfeKkB"
      },
      "source": [
        "### **Classifieur MultinomialNB :** \n"
      ]
    },
    {
      "cell_type": "markdown",
      "metadata": {
        "id": "l0X4PMBgZJ4L"
      },
      "source": [
        "Le score : "
      ]
    },
    {
      "cell_type": "markdown",
      "metadata": {
        "id": "W-dsikc9b0AE"
      },
      "source": [
        "Ici on utilise le score par défaut. "
      ]
    },
    {
      "cell_type": "code",
      "metadata": {
        "id": "hMF4-UgRflpc"
      },
      "source": [
        "scores =  cross_val_score(clf2, traintfidf,train['Genre'], cv=5)"
      ],
      "execution_count": 22,
      "outputs": []
    },
    {
      "cell_type": "code",
      "metadata": {
        "id": "QgqDcmINgJMb",
        "colab": {
          "base_uri": "https://localhost:8080/"
        },
        "outputId": "e46b32b1-a478-4dff-8592-d1267cfa8ef6"
      },
      "source": [
        "print(\"Accuracy: %0.2f (+/- %0.2f)\" % (scores.mean(), scores.std() * 2))"
      ],
      "execution_count": null,
      "outputs": [
        {
          "output_type": "stream",
          "text": [
            "Accuracy: 0.27 (+/- 0.00)\n"
          ],
          "name": "stdout"
        }
      ]
    },
    {
      "cell_type": "markdown",
      "metadata": {
        "id": "sUqIP3_Zh3we"
      },
      "source": [
        "La précision de ce modèle sur les données de tests est d'environ 27%. "
      ]
    },
    {
      "cell_type": "code",
      "metadata": {
        "id": "kaZGd36cA_iw"
      },
      "source": [
        "p1 = [0.20, 0.20, 0.20, 0.20, 0.20,0.20, 0.20, 0.20, 0.20, 0.20, 0.20 ]\n",
        "p2 = [1/11, 1/11, 1/11, 1/11, 1/11, 1/11, 1/11, 1/11, 1/11, 1/11, 1/11 ]"
      ],
      "execution_count": null,
      "outputs": []
    },
    {
      "cell_type": "code",
      "metadata": {
        "id": "cTslHe2FsWVB"
      },
      "source": [
        "tuned_parameters = [{'alpha': [1.0, 2.0, 4.0, 6.0, 10.0, 100.0, 1000.0], 'class_prior' : [None, p1, p2], 'fit_prior' : [True, False]}]"
      ],
      "execution_count": null,
      "outputs": []
    },
    {
      "cell_type": "code",
      "metadata": {
        "id": "XwI9SbmUsCFg"
      },
      "source": [
        "scores = ['precision', 'recall', 'f1']"
      ],
      "execution_count": null,
      "outputs": []
    },
    {
      "cell_type": "code",
      "metadata": {
        "id": "mQqkrHhdsEdD",
        "colab": {
          "base_uri": "https://localhost:8080/"
        },
        "outputId": "7b8f2178-125a-4e44-c8fb-f9944aa470f5"
      },
      "source": [
        "bestParam(MultinomialNB(), tuned_parameters, scores)"
      ],
      "execution_count": null,
      "outputs": [
        {
          "output_type": "stream",
          "text": [
            "# Tuning hyper-parameters for precision\n",
            "\n",
            "Best parameters set found on development set:\n",
            "\n",
            "{'alpha': 2.0, 'class_prior': None, 'fit_prior': False}\n",
            "\n",
            "Best score : 0.21340740224326193\n",
            "\n",
            "\n",
            "# Tuning hyper-parameters for recall\n",
            "\n",
            "Best parameters set found on development set:\n",
            "\n",
            "{'alpha': 1.0, 'class_prior': None, 'fit_prior': False}\n",
            "\n",
            "Best score : 0.11546784466365005\n",
            "\n",
            "\n",
            "# Tuning hyper-parameters for f1\n",
            "\n",
            "Best parameters set found on development set:\n",
            "\n",
            "{'alpha': 1.0, 'class_prior': None, 'fit_prior': False}\n",
            "\n",
            "Best score : 0.09270499046614193\n",
            "\n",
            "\n",
            "Globality : \n",
            "\n",
            "Detailed classification report:\n",
            "\n",
            "              precision    recall  f1-score   support\n",
            "\n",
            "      Action       0.18      0.11      0.14       609\n",
            " Art&Foreign       0.07      0.00      0.01       465\n",
            "    Classics       0.08      0.00      0.01       312\n",
            "      Comedy       0.19      0.08      0.11       746\n",
            " Documentary       0.67      0.12      0.21       339\n",
            "       Drama       0.28      0.85      0.42      1490\n",
            "      Horror       0.31      0.10      0.16       325\n",
            " Kids&Family       0.20      0.01      0.02       189\n",
            "     Mystery       0.07      0.01      0.02       577\n",
            "     Romance       0.00      0.00      0.00       331\n",
            "       SciFi       0.09      0.02      0.04       317\n",
            "\n",
            "    accuracy                           0.26      5700\n",
            "   macro avg       0.19      0.12      0.10      5700\n",
            "weighted avg       0.20      0.26      0.17      5700\n",
            "\n",
            "None\n",
            "\n",
            "Best parameters set found on development set:\n",
            "\n",
            "{'alpha': 1.0, 'class_prior': None, 'fit_prior': False}\n",
            "\n",
            "Best score : 0.2741689012887714\n",
            "\n"
          ],
          "name": "stdout"
        }
      ]
    },
    {
      "cell_type": "markdown",
      "metadata": {
        "id": "d1BxbtPLoPRo"
      },
      "source": [
        "On remarque ceci : \n",
        "\n",
        "\n",
        "*   avec la précision : \n",
        "        le meilleur score est de 0,21 \n",
        "        avec les paramètres : {'alpha': 2.0, 'class_prior': None, 'fit_prior': False} \n",
        "*   avec recall : \n",
        "        le meilleur score est de 0,11 \n",
        "        avec les paramètres : {'alpha': 1.0, 'class_prior': None, 'fit_prior': False}\n",
        "*   avec f1 : \n",
        "        le meilleur score est de 0,09 \n",
        "        avec les paramètres : {'alpha': 1.0, 'class_prior': None, 'fit_prior': False}\n",
        "\n",
        "En globalité, \n",
        "le meilleur score est de 0,274 \n",
        "avec les paramètres : {'alpha': 1.0, 'class_prior': None, 'fit_prior': False}\n",
        "\n",
        "On remarque également que la précision est moins bonne que la méthode précédente. "
      ]
    },
    {
      "cell_type": "markdown",
      "metadata": {
        "id": "EoniQzABjMzN"
      },
      "source": [
        "### **Classifieur  Bernoulli:** \n"
      ]
    },
    {
      "cell_type": "markdown",
      "metadata": {
        "id": "w19HTp3SjMzP"
      },
      "source": [
        "Le score : "
      ]
    },
    {
      "cell_type": "markdown",
      "metadata": {
        "id": "TdgB1fYEjMzR"
      },
      "source": [
        "Ici on utilise le score par défaut. "
      ]
    },
    {
      "cell_type": "code",
      "metadata": {
        "id": "oo6unkG3jMzS"
      },
      "source": [
        "scoresbern =  cross_val_score(bern, traintfidf,train['Genre'], cv=5)"
      ],
      "execution_count": null,
      "outputs": []
    },
    {
      "cell_type": "code",
      "metadata": {
        "id": "bqZkurIhjMzX"
      },
      "source": [
        "print(\"Accuracy: %0.2f (+/- %0.2f)\" % (scoresbern.mean(), scoresbern.std() * 2))"
      ],
      "execution_count": null,
      "outputs": []
    },
    {
      "cell_type": "markdown",
      "metadata": {
        "id": "17IQGH5_jMzZ"
      },
      "source": [
        "La précision de ce classifieur sur l'ensemble des données en fractionnant les données, en ajustant un modèle et en calculant le score 5 fois à la suite est de 27%. "
      ]
    },
    {
      "cell_type": "code",
      "metadata": {
        "id": "6V5kiP_E6Iuw"
      },
      "source": [
        "tuned_parameters_bern = [{'alpha': [0.5, 0.75, 1.0, 2.0, 4.0, 6.0, 10.0, 100.0, 1000.0], 'class_prior' : [None, p1, p2], 'binarize': [0.0, 0.1, 0.2, 0.5, 0.7, 1, 2.0], 'fit_prior' : [True, False]}]"
      ],
      "execution_count": null,
      "outputs": []
    },
    {
      "cell_type": "code",
      "metadata": {
        "id": "ryS_wZ_K6Iu9",
        "colab": {
          "base_uri": "https://localhost:8080/"
        },
        "outputId": "9aee5725-20b2-43d0-cf98-044d611cb802"
      },
      "source": [
        "bestParam(BernoulliNB(), tuned_parameters_bern, scores)"
      ],
      "execution_count": null,
      "outputs": [
        {
          "output_type": "stream",
          "text": [
            "# Tuning hyper-parameters for precision\n",
            "\n",
            "Best parameters set found on development set:\n",
            "\n",
            "{'alpha': 1.0, 'binarize': 0.0, 'class_prior': None, 'fit_prior': False}\n",
            "\n",
            "Best score : 0.23543363020017383\n",
            "\n",
            "\n",
            "# Tuning hyper-parameters for recall\n",
            "\n",
            "Best parameters set found on development set:\n",
            "\n",
            "{'alpha': 1.0, 'binarize': 0.0, 'class_prior': None, 'fit_prior': False}\n",
            "\n",
            "Best score : 0.18446183103465758\n",
            "\n",
            "\n",
            "# Tuning hyper-parameters for f1\n",
            "\n",
            "Best parameters set found on development set:\n",
            "\n",
            "{'alpha': 1.0, 'binarize': 0.0, 'class_prior': None, 'fit_prior': False}\n",
            "\n",
            "Best score : 0.19278317331759584\n",
            "\n",
            "\n",
            "Globality : \n",
            "\n",
            "Detailed classification report:\n",
            "\n",
            "              precision    recall  f1-score   support\n",
            "\n",
            "      Action       0.21      0.23      0.22       609\n",
            " Art&Foreign       0.10      0.05      0.07       465\n",
            "    Classics       0.18      0.13      0.15       312\n",
            "      Comedy       0.28      0.27      0.27       746\n",
            " Documentary       0.69      0.54      0.60       339\n",
            "       Drama       0.30      0.49      0.37      1490\n",
            "      Horror       0.20      0.14      0.16       325\n",
            " Kids&Family       0.08      0.03      0.04       189\n",
            "     Mystery       0.13      0.11      0.12       577\n",
            "     Romance       0.02      0.01      0.02       331\n",
            "       SciFi       0.07      0.04      0.05       317\n",
            "\n",
            "    accuracy                           0.26      5700\n",
            "   macro avg       0.21      0.19      0.19      5700\n",
            "weighted avg       0.23      0.26      0.23      5700\n",
            "\n",
            "None\n",
            "\n",
            "Best parameters set found on development set:\n",
            "\n",
            "{'alpha': 1.0, 'binarize': 0.0, 'class_prior': None, 'fit_prior': False}\n",
            "\n",
            "Best score : 0.27561065735380824\n",
            "\n"
          ],
          "name": "stdout"
        }
      ]
    },
    {
      "cell_type": "markdown",
      "metadata": {
        "id": "hvQ-FrbYow5x"
      },
      "source": [
        "On remarque ceci : \n",
        "\n",
        "\n",
        "*   avec la précision : \n",
        "        le meilleur score est de 0,23 \n",
        "        avec les paramètres : {'alpha': 1.0, 'binarize': 0.0, 'class_prior': None, 'fit_prior': False}\n",
        "*   avec recall : \n",
        "        le meilleur score est de 0,18 \n",
        "        avec les paramètres : {'alpha': 1.0, 'binarize': 0.0, 'class_prior': None, 'fit_prior': False}\n",
        "*   avec f1 : \n",
        "        le meilleur score est de 0,19 \n",
        "        avec les paramètres : {'alpha': 1.0, 'binarize': 0.0, 'class_prior': None, 'fit_prior': False}\n",
        "\n",
        "En globalité, \n",
        "le meilleur score est de 0,27 \n",
        "avec les paramètres : {'alpha': 1.0, 'binarize': 0.0, 'class_prior': None, 'fit_prior': False}\n",
        "\n",
        "On remarque également que la précision est meilleure que la méthode précédente. On remarque aussi que les scores sont dans l'ensemble meilleurs. "
      ]
    },
    {
      "cell_type": "markdown",
      "metadata": {
        "id": "dDTthXIMqgt1"
      },
      "source": [
        "### **Classifieur  SVM:** \n"
      ]
    },
    {
      "cell_type": "markdown",
      "metadata": {
        "id": "-iALntd0qgt5"
      },
      "source": [
        "Le score : "
      ]
    },
    {
      "cell_type": "code",
      "metadata": {
        "id": "86NNuEErqgt6"
      },
      "source": [
        "scoresSVM =  cross_val_score(SVC(), traintfidf,train['Genre'], cv=5)"
      ],
      "execution_count": null,
      "outputs": []
    },
    {
      "cell_type": "code",
      "metadata": {
        "id": "9rdm_81iqgt9"
      },
      "source": [
        "print(\"Accuracy: %0.2f (+/- %0.2f)\" % (scoresSVM.mean(), scoresSVM.std() * 2))"
      ],
      "execution_count": null,
      "outputs": []
    },
    {
      "cell_type": "markdown",
      "metadata": {
        "id": "pLnYBVS8qgt_"
      },
      "source": [
        "Malheureusement, juste avant de rendre le TP j'ai relancé mais l'excution met énormément de temps, je ne peux pas vous afficher le résultats de la ligne de code mais j'ai gardé le resultats dans la zone texte. \n",
        "La précision de ce classifieur sur l'ensemble des données en fractionnant les données, en ajustant un modèle et en calculant le score 5 fois à la suite est de 27%. "
      ]
    },
    {
      "cell_type": "code",
      "metadata": {
        "id": "46_sIFqSr7eH"
      },
      "source": [
        "scores = ['precision']"
      ],
      "execution_count": 11,
      "outputs": []
    },
    {
      "cell_type": "code",
      "metadata": {
        "id": "6Wq3YTMCqguB"
      },
      "source": [
        "tuned_parameters_svc = [{'kernel': ['rbf'], 'gamma': [1e-3, 1e-4],\n",
        "                          'C': [1, 10, 100, 1000]},\n",
        "                        {'kernel': ['linear'], 'C': [1, 10, 100, 1000]}]"
      ],
      "execution_count": 13,
      "outputs": []
    },
    {
      "cell_type": "code",
      "metadata": {
        "id": "VQeBXYNbqguE",
        "colab": {
          "base_uri": "https://localhost:8080/"
        },
        "outputId": "6d49c692-70d8-4e66-da4e-9200eb2492d3"
      },
      "source": [
        "bestParam(SVC(), tuned_parameters_svc, scores)"
      ],
      "execution_count": null,
      "outputs": [
        {
          "output_type": "stream",
          "text": [
            "# Tuning hyper-parameters for precision\n",
            "\n"
          ],
          "name": "stdout"
        }
      ]
    },
    {
      "cell_type": "markdown",
      "metadata": {
        "id": "XN-OWc3g6r6y"
      },
      "source": [
        "Malheureusement j'ai laissé tourné l'algorothme bestParam pour SVC pendant plus de 3h et je n'ai pas réussi à aller au bout de l'exécution. \n",
        "\n",
        "On sait néanmoins que le score global est d'environ 27% ce qui est équivalent aux classifieur précédent. "
      ]
    },
    {
      "cell_type": "markdown",
      "metadata": {
        "id": "_zvAQUGHpek7"
      },
      "source": [
        "##Conclusion"
      ]
    },
    {
      "cell_type": "markdown",
      "metadata": {
        "id": "szoizcnip4z_"
      },
      "source": [
        "**Precision :** \n",
        "Si on se base sur les valeurs de la précision, on a Tree Classifieur (0,29) > Bernoulli (0,21) > MultinomialNB (0,23) \n",
        "\n",
        "On remarque alors que si on se base sur la précision, c'est Tree Classifieur qui est le plus performant avec les paramètres : {'criterion': 'gini', 'max_depth': 10, 'splitter': 'best'} "
      ]
    },
    {
      "cell_type": "markdown",
      "metadata": {
        "id": "4T3YtkKKq5Ca"
      },
      "source": [
        "**Recall :** \n",
        "Si on se base sur les valeurs de recall, on a on a Tree Classifieur (0,19) > Bernoulli (0,18) > MultinomialNB (0,11) \n",
        "\n",
        "On remarque alors que si on se base sur recall, c'est Tree Classifieur qui est le plus performant avec les paramètres : {'criterion': 'gini', 'max_depth': 10, 'splitter': 'best'} "
      ]
    },
    {
      "cell_type": "markdown",
      "metadata": {
        "id": "pdBlLC7irVny"
      },
      "source": [
        "**F1 :** \n",
        "Si on se base sur les valeurs de F1, on a on a Tree Classifieur (0,20) > Bernoulli (0,19) > MultinomialNB (0,09) \n",
        "\n",
        "On remarque alors que si on se base sur F1, c'est Tree Classifieur qui est le plus performant avec les paramètres : {'criterion': 'gini', 'max_depth': 10, 'splitter': 'best'}"
      ]
    },
    {
      "cell_type": "markdown",
      "metadata": {
        "id": "8b8FKIXDr243"
      },
      "source": [
        "**Global :** \n",
        "Si on se base sur les valeurs globales, on a on a Tree Classifieur (0,31) > Bernoulli (0,275) >= SVM (0,27) >= MultinomialNB (0,274) \n",
        "\n",
        "On remarque alors que si on se base sur les valeurs globales, c'est Tree Classifieur qui est le plus performant avec les paramètres : {'criterion': 'gini', 'max_depth': 10, 'splitter': 'best'}"
      ]
    },
    {
      "cell_type": "markdown",
      "metadata": {
        "id": "D9dUXKWasfBH"
      },
      "source": [
        "On peut en conclure que Tree Classifieur est plus performant que les autres. Le classifieur de bernoulli permet d'obtenir des résultats plutôt satisfaisant et plus rapidement que Tree Classifieur. \n",
        "\n",
        "Je pense que SVM pourrait amener de meilleurs résultats avec les bons paramètres mais l'exécution est très longue, cela prend énormément de temps (15 mins environ rien que pour un ensemble de paramètres) et je n'ai pas réussi à atteindre la fin d'exécution pour trouver les meilleurs paramètres (le notebook stoppe l'exécution avant). "
      ]
    },
    {
      "cell_type": "markdown",
      "metadata": {
        "id": "zuVPeNBftDRt"
      },
      "source": [
        "Sources : \n",
        "* pour trouver les meilleurs paramètres je me suis appuyée sur : https://scikit-learn.org/stable/auto_examples/model_selection/plot_grid_search_digits.html\n",
        "* les liens déjà présents dans le google collab "
      ]
    },
    {
      "cell_type": "code",
      "metadata": {
        "id": "2AZdCMQWv_5I"
      },
      "source": [
        ""
      ],
      "execution_count": null,
      "outputs": []
    }
  ]
}